{
 "cells": [
  {
   "cell_type": "markdown",
   "metadata": {},
   "source": [
    "# TRABAJO INTEGRADOR FINAL\n",
    "## Aprendizaje de máquina II\n",
    "\n",
    "### Optimización de hiperparámetros del modelo utilizando optuna\n",
    "\n",
    "AUTOR: Juan Ignacio Ribet\n",
    "\n",
    "FECHA: 04-Ago-2023\n"
   ]
  },
  {
   "cell_type": "code",
   "execution_count": 20,
   "metadata": {},
   "outputs": [],
   "source": [
    "#Importo las librerias necesarias\n",
    "import optuna\n",
    "import pandas as pd\n",
    "from sklearn import metrics\n",
    "from sklearn.model_selection import train_test_split\n",
    "from sklearn.ensemble import RandomForestRegressor, GradientBoostingRegressor\n",
    "from sklearn.linear_model import LinearRegression, ElasticNet, Ridge, Lasso"
   ]
  },
  {
   "cell_type": "markdown",
   "metadata": {},
   "source": [
    "Cargo el dataset para entrenamiento y test."
   ]
  },
  {
   "cell_type": "code",
   "execution_count": 21,
   "metadata": {},
   "outputs": [],
   "source": [
    "# Cargo los datasets de train y test\n",
    "df_train = pd.read_csv(\n",
    "    'C:/Users/juani/Documents/Especializacion IA/Aprendizaje de Maquina II/Aprendizaje_Maq_2_CEIA/results/outdata_train.csv', index_col=0)\n",
    "df_test = pd.read_csv(\n",
    "    'C:/Users/juani/Documents/Especializacion IA/Aprendizaje de Maquina II/Aprendizaje_Maq_2_CEIA/results/outdata_Test.csv', index_col=0)\n",
    "\n",
    "seed = 28\n",
    "# División de dataset de entrenaimento y validación\n",
    "x_data = df_train.drop(columns='Item_Outlet_Sales')\n",
    "x_train, x_val, y_train, y_val = train_test_split(x_data, df_train['Item_Outlet_Sales'], test_size=0.3, random_state=seed)"
   ]
  },
  {
   "cell_type": "markdown",
   "metadata": {},
   "source": [
    "Defino la función para evaluar las métricas."
   ]
  },
  {
   "cell_type": "code",
   "execution_count": 22,
   "metadata": {},
   "outputs": [],
   "source": [
    "metrics_models = pd.DataFrame()\n",
    "\n",
    "def evaluation_score(name, model):\n",
    "    '''\n",
    "    Función para evaluar los modelos y guardar resultados\n",
    "    '''\n",
    "    # Metricas de entrenamiento\n",
    "    mse_train = round(metrics.mean_squared_error(y_train, model.predict(x_train))**0.5, 2)\n",
    "    R2_train = round(model.score(x_train, y_train), 4)\n",
    "    print(f'Métricas del Modelo: *{name}*')\n",
    "    print(f'ENTRENAMIENTO: RMSE: {mse_train} - R2: {R2_train}')\n",
    "    \n",
    "    # Metricas de validacion\n",
    "    mse_val = round(metrics.mean_squared_error(y_val, model.predict(x_val))**0.5, 2)\n",
    "    R2_val = round(model.score(x_val, y_val), 4)\n",
    "    print(f'VALIDACIÓN: RMSE: {mse_val} - R2: {R2_val}', '\\n')\n",
    "\n",
    "    # saves the metrics in the dataframe 'eval'\n",
    "    global metrics_models\n",
    "    metrics_model = pd.DataFrame({'mse_train': [mse_train], 'R2_train': [R2_train],\n",
    "                                  'mse_val': [mse_val], 'R2_val': [R2_val]})\n",
    "    metrics_model.rename(index=lambda x: name, inplace=True)\n",
    "    try:\n",
    "        metrics_models = metrics_models.drop(name)\n",
    "    except:\n",
    "        pass\n",
    "    metrics_models = pd.concat([metrics_models, metrics_model], ignore_index=False)\n",
    "    #metrics_models.sort_index()"
   ]
  },
  {
   "cell_type": "markdown",
   "metadata": {},
   "source": [
    "Entreno el modelo original para comprar métricas."
   ]
  },
  {
   "cell_type": "code",
   "execution_count": 23,
   "metadata": {},
   "outputs": [
    {
     "name": "stdout",
     "output_type": "stream",
     "text": [
      "Métricas del Modelo: *LinearRegression*\n",
      "ENTRENAMIENTO: RMSE: 1169.35 - R2: 0.5284\n",
      "VALIDACIÓN: RMSE: 1146.66 - R2: 0.5526 \n",
      "\n"
     ]
    }
   ],
   "source": [
    "# Entrenamiento del modelo\n",
    "model = LinearRegression()\n",
    "model.fit(x_train,y_train)\n",
    "\n",
    "# Predicción del modelo ajustado para el conjunto de validación\n",
    "pred = model.predict(x_val)\n",
    "\n",
    "# Evaluo el modelo\n",
    "evaluation_score('LinearRegression',model)"
   ]
  },
  {
   "cell_type": "markdown",
   "metadata": {},
   "source": [
    "Con Optuna busco optimizar el modelo lineal con los métodos Ridge y Lasso y diferentes alphas (0.0 , 2.0)"
   ]
  },
  {
   "cell_type": "code",
   "execution_count": 24,
   "metadata": {},
   "outputs": [
    {
     "name": "stderr",
     "output_type": "stream",
     "text": [
      "\u001b[32m[I 2023-08-05 11:42:00,912]\u001b[0m A new study created in memory with name: no-name-091deaeb-c79f-4cf2-8f44-cfff2116980f\u001b[0m\n",
      "\u001b[32m[I 2023-08-05 11:42:01,033]\u001b[0m Trial 0 finished with value: 1146.6394865677214 and parameters: {'regression_method': 'lasso', 'alpha': 0.3105269797816339}. Best is trial 0 with value: 1146.6394865677214.\u001b[0m\n",
      "\u001b[32m[I 2023-08-05 11:42:01,073]\u001b[0m Trial 1 finished with value: 1146.6447264208523 and parameters: {'regression_method': 'lasso', 'alpha': 0.5437124203125603}. Best is trial 0 with value: 1146.6394865677214.\u001b[0m\n"
     ]
    },
    {
     "name": "stderr",
     "output_type": "stream",
     "text": [
      "\u001b[32m[I 2023-08-05 11:42:01,105]\u001b[0m Trial 2 finished with value: 1146.6618800776214 and parameters: {'regression_method': 'ridge', 'alpha': 0.1441532143816937}. Best is trial 0 with value: 1146.6394865677214.\u001b[0m\n",
      "\u001b[32m[I 2023-08-05 11:42:01,153]\u001b[0m Trial 3 finished with value: 1146.6262638364951 and parameters: {'regression_method': 'lasso', 'alpha': 1.4015239260335128}. Best is trial 3 with value: 1146.6262638364951.\u001b[0m\n",
      "\u001b[32m[I 2023-08-05 11:42:01,185]\u001b[0m Trial 4 finished with value: 1146.6698724129628 and parameters: {'regression_method': 'lasso', 'alpha': 0.8608613629051729}. Best is trial 3 with value: 1146.6262638364951.\u001b[0m\n",
      "\u001b[32m[I 2023-08-05 11:42:01,218]\u001b[0m Trial 5 finished with value: 1146.641716953571 and parameters: {'regression_method': 'lasso', 'alpha': 1.175392085528772}. Best is trial 3 with value: 1146.6262638364951.\u001b[0m\n",
      "\u001b[32m[I 2023-08-05 11:42:01,242]\u001b[0m Trial 6 finished with value: 1146.6478372780196 and parameters: {'regression_method': 'ridge', 'alpha': 0.8420307016392878}. Best is trial 3 with value: 1146.6262638364951.\u001b[0m\n",
      "\u001b[32m[I 2023-08-05 11:42:01,282]\u001b[0m Trial 7 finished with value: 1146.6092573812882 and parameters: {'regression_method': 'lasso', 'alpha': 1.7842461140227526}. Best is trial 7 with value: 1146.6092573812882.\u001b[0m\n",
      "\u001b[32m[I 2023-08-05 11:42:01,330]\u001b[0m Trial 8 finished with value: 1146.64488338087 and parameters: {'regression_method': 'lasso', 'alpha': 0.5460015287440438}. Best is trial 7 with value: 1146.6092573812882.\u001b[0m\n",
      "\u001b[32m[I 2023-08-05 11:42:01,354]\u001b[0m Trial 9 finished with value: 1146.64176815949 and parameters: {'regression_method': 'ridge', 'alpha': 1.1584630253725339}. Best is trial 7 with value: 1146.6092573812882.\u001b[0m\n",
      "\u001b[32m[I 2023-08-05 11:42:01,442]\u001b[0m Trial 10 finished with value: 1146.6056983428261 and parameters: {'regression_method': 'lasso', 'alpha': 1.9356840670725277}. Best is trial 10 with value: 1146.6056983428261.\u001b[0m\n",
      "\u001b[32m[I 2023-08-05 11:42:01,490]\u001b[0m Trial 11 finished with value: 1146.604795268957 and parameters: {'regression_method': 'lasso', 'alpha': 1.9949786258127602}. Best is trial 11 with value: 1146.604795268957.\u001b[0m\n",
      "\u001b[32m[I 2023-08-05 11:42:01,530]\u001b[0m Trial 12 finished with value: 1146.6049088929108 and parameters: {'regression_method': 'lasso', 'alpha': 1.9863759041085847}. Best is trial 11 with value: 1146.604795268957.\u001b[0m\n",
      "\u001b[32m[I 2023-08-05 11:42:01,586]\u001b[0m Trial 13 finished with value: 1146.6157619992903 and parameters: {'regression_method': 'lasso', 'alpha': 1.6056635859463635}. Best is trial 11 with value: 1146.604795268957.\u001b[0m\n",
      "\u001b[32m[I 2023-08-05 11:42:01,634]\u001b[0m Trial 14 finished with value: 1146.6052813682034 and parameters: {'regression_method': 'lasso', 'alpha': 1.9609113262037678}. Best is trial 11 with value: 1146.604795268957.\u001b[0m\n",
      "\u001b[32m[I 2023-08-05 11:42:01,674]\u001b[0m Trial 15 finished with value: 1146.6338463644233 and parameters: {'regression_method': 'ridge', 'alpha': 1.5863811257056182}. Best is trial 11 with value: 1146.604795268957.\u001b[0m\n",
      "\u001b[32m[I 2023-08-05 11:42:01,722]\u001b[0m Trial 16 finished with value: 1146.6172007534255 and parameters: {'regression_method': 'lasso', 'alpha': 1.5735064459430608}. Best is trial 11 with value: 1146.604795268957.\u001b[0m\n",
      "\u001b[32m[I 2023-08-05 11:42:01,762]\u001b[0m Trial 17 finished with value: 1146.6049518467328 and parameters: {'regression_method': 'lasso', 'alpha': 1.9832329747276203}. Best is trial 11 with value: 1146.604795268957.\u001b[0m\n",
      "\u001b[32m[I 2023-08-05 11:42:01,786]\u001b[0m Trial 18 finished with value: 1146.6389578663443 and parameters: {'regression_method': 'ridge', 'alpha': 1.3082720617702597}. Best is trial 11 with value: 1146.604795268957.\u001b[0m\n",
      "\u001b[32m[I 2023-08-05 11:42:01,834]\u001b[0m Trial 19 finished with value: 1146.609596251531 and parameters: {'regression_method': 'lasso', 'alpha': 1.7728812685804258}. Best is trial 11 with value: 1146.604795268957.\u001b[0m\n",
      "\u001b[32m[I 2023-08-05 11:42:01,882]\u001b[0m Trial 20 finished with value: 1146.6089930621795 and parameters: {'regression_method': 'lasso', 'alpha': 1.7933550714910473}. Best is trial 11 with value: 1146.604795268957.\u001b[0m\n",
      "\u001b[32m[I 2023-08-05 11:42:01,914]\u001b[0m Trial 21 finished with value: 1146.6055354051002 and parameters: {'regression_method': 'lasso', 'alpha': 1.945189475606486}. Best is trial 11 with value: 1146.604795268957.\u001b[0m\n",
      "\u001b[32m[I 2023-08-05 11:42:01,954]\u001b[0m Trial 22 finished with value: 1146.6048703267106 and parameters: {'regression_method': 'lasso', 'alpha': 1.9892471570578762}. Best is trial 11 with value: 1146.604795268957.\u001b[0m\n",
      "\u001b[32m[I 2023-08-05 11:42:01,994]\u001b[0m Trial 23 finished with value: 1146.611809000533 and parameters: {'regression_method': 'lasso', 'alpha': 1.7057101416488392}. Best is trial 11 with value: 1146.604795268957.\u001b[0m\n",
      "\u001b[32m[I 2023-08-05 11:42:02,042]\u001b[0m Trial 24 finished with value: 1146.625140671458 and parameters: {'regression_method': 'lasso', 'alpha': 1.420706791293556}. Best is trial 11 with value: 1146.604795268957.\u001b[0m\n",
      "\u001b[32m[I 2023-08-05 11:42:02,090]\u001b[0m Trial 25 finished with value: 1146.6081397595594 and parameters: {'regression_method': 'lasso', 'alpha': 1.8243281885280669}. Best is trial 11 with value: 1146.604795268957.\u001b[0m\n",
      "\u001b[32m[I 2023-08-05 11:42:02,130]\u001b[0m Trial 26 finished with value: 1146.6351471237347 and parameters: {'regression_method': 'ridge', 'alpha': 1.514901177110152}. Best is trial 11 with value: 1146.604795268957.\u001b[0m\n",
      "\u001b[32m[I 2023-08-05 11:42:02,170]\u001b[0m Trial 27 finished with value: 1146.6119385770091 and parameters: {'regression_method': 'lasso', 'alpha': 1.7020750225140788}. Best is trial 11 with value: 1146.604795268957.\u001b[0m\n",
      "\u001b[32m[I 2023-08-05 11:42:02,210]\u001b[0m Trial 28 finished with value: 1146.6076195973135 and parameters: {'regression_method': 'lasso', 'alpha': 1.8447779719814472}. Best is trial 11 with value: 1146.604795268957.\u001b[0m\n",
      "\u001b[32m[I 2023-08-05 11:42:02,258]\u001b[0m Trial 29 finished with value: 1146.6392209672922 and parameters: {'regression_method': 'lasso', 'alpha': 1.2082132168716095}. Best is trial 11 with value: 1146.604795268957.\u001b[0m\n",
      "\u001b[32m[I 2023-08-05 11:42:02,306]\u001b[0m Trial 30 finished with value: 1146.6594277387057 and parameters: {'regression_method': 'lasso', 'alpha': 0.9677881230195446}. Best is trial 11 with value: 1146.604795268957.\u001b[0m\n",
      "\u001b[32m[I 2023-08-05 11:42:02,346]\u001b[0m Trial 31 finished with value: 1146.6047498307905 and parameters: {'regression_method': 'lasso', 'alpha': 1.9985473385524772}. Best is trial 31 with value: 1146.6047498307905.\u001b[0m\n",
      "\u001b[32m[I 2023-08-05 11:42:02,386]\u001b[0m Trial 32 finished with value: 1146.6048874242365 and parameters: {'regression_method': 'lasso', 'alpha': 1.9879683230132592}. Best is trial 31 with value: 1146.6047498307905.\u001b[0m\n",
      "\u001b[32m[I 2023-08-05 11:42:02,426]\u001b[0m Trial 33 finished with value: 1146.6073542859224 and parameters: {'regression_method': 'lasso', 'alpha': 1.8556112325123486}. Best is trial 31 with value: 1146.6047498307905.\u001b[0m\n",
      "\u001b[32m[I 2023-08-05 11:42:02,466]\u001b[0m Trial 34 finished with value: 1146.6128851607853 and parameters: {'regression_method': 'lasso', 'alpha': 1.6764636888497015}. Best is trial 31 with value: 1146.6047498307905.\u001b[0m\n",
      "\u001b[32m[I 2023-08-05 11:42:02,514]\u001b[0m Trial 35 finished with value: 1146.6066576629478 and parameters: {'regression_method': 'lasso', 'alpha': 1.8864752882879832}. Best is trial 31 with value: 1146.6047498307905.\u001b[0m\n",
      "\u001b[32m[I 2023-08-05 11:42:02,626]\u001b[0m Trial 36 finished with value: 1146.661954445233 and parameters: {'regression_method': 'lasso', 'alpha': 0.03500536963307854}. Best is trial 31 with value: 1146.6047498307905.\u001b[0m\n",
      "\u001b[32m[I 2023-08-05 11:42:02,658]\u001b[0m Trial 37 finished with value: 1146.6359915510618 and parameters: {'regression_method': 'ridge', 'alpha': 1.4687595366275292}. Best is trial 31 with value: 1146.6047498307905.\u001b[0m\n",
      "\u001b[32m[I 2023-08-05 11:42:02,714]\u001b[0m Trial 38 finished with value: 1146.6451038368932 and parameters: {'regression_method': 'lasso', 'alpha': 0.5492410180092713}. Best is trial 31 with value: 1146.6047498307905.\u001b[0m\n",
      "\u001b[32m[I 2023-08-05 11:42:02,770]\u001b[0m Trial 39 finished with value: 1146.6388439481075 and parameters: {'regression_method': 'lasso', 'alpha': 0.37364550117547657}. Best is trial 31 with value: 1146.6047498307905.\u001b[0m\n",
      "\u001b[32m[I 2023-08-05 11:42:02,802]\u001b[0m Trial 40 finished with value: 1146.650354949827 and parameters: {'regression_method': 'ridge', 'alpha': 0.7134932119886921}. Best is trial 31 with value: 1146.6047498307905.\u001b[0m\n",
      "\u001b[32m[I 2023-08-05 11:42:02,850]\u001b[0m Trial 41 finished with value: 1146.6048624325574 and parameters: {'regression_method': 'lasso', 'alpha': 1.9898408604122457}. Best is trial 31 with value: 1146.6047498307905.\u001b[0m\n",
      "\u001b[32m[I 2023-08-05 11:42:02,906]\u001b[0m Trial 42 finished with value: 1146.6109766770946 and parameters: {'regression_method': 'lasso', 'alpha': 1.7297838767497653}. Best is trial 31 with value: 1146.6047498307905.\u001b[0m\n",
      "\u001b[32m[I 2023-08-05 11:42:02,946]\u001b[0m Trial 43 finished with value: 1146.6048798113695 and parameters: {'regression_method': 'lasso', 'alpha': 1.988536558356684}. Best is trial 31 with value: 1146.6047498307905.\u001b[0m\n",
      "\u001b[32m[I 2023-08-05 11:42:02,986]\u001b[0m Trial 44 finished with value: 1146.6073831574445 and parameters: {'regression_method': 'lasso', 'alpha': 1.8543993379700674}. Best is trial 31 with value: 1146.6047498307905.\u001b[0m\n",
      "\u001b[32m[I 2023-08-05 11:42:03,034]\u001b[0m Trial 45 finished with value: 1146.6142450530385 and parameters: {'regression_method': 'lasso', 'alpha': 1.6418439326565126}. Best is trial 31 with value: 1146.6047498307905.\u001b[0m\n",
      "\u001b[32m[I 2023-08-05 11:42:03,084]\u001b[0m Trial 46 finished with value: 1146.6063738832624 and parameters: {'regression_method': 'lasso', 'alpha': 1.9000926441028068}. Best is trial 31 with value: 1146.6047498307905.\u001b[0m\n",
      "\u001b[32m[I 2023-08-05 11:42:03,123]\u001b[0m Trial 47 finished with value: 1146.6047580318163 and parameters: {'regression_method': 'lasso', 'alpha': 1.9978974090592716}. Best is trial 31 with value: 1146.6047498307905.\u001b[0m\n",
      "\u001b[32m[I 2023-08-05 11:42:03,171]\u001b[0m Trial 48 finished with value: 1146.6099991183833 and parameters: {'regression_method': 'lasso', 'alpha': 1.759788525300435}. Best is trial 31 with value: 1146.6047498307905.\u001b[0m\n",
      "\u001b[32m[I 2023-08-05 11:42:03,211]\u001b[0m Trial 49 finished with value: 1146.6064057880055 and parameters: {'regression_method': 'lasso', 'alpha': 1.8985262755348096}. Best is trial 31 with value: 1146.6047498307905.\u001b[0m\n"
     ]
    },
    {
     "name": "stdout",
     "output_type": "stream",
     "text": [
      "Best trial: score 1146.6047498307905, params {'regression_method': 'lasso', 'alpha': 1.9985473385524772}\n"
     ]
    }
   ],
   "source": [
    "def objective_linear_model(trial):\n",
    "    \"\"\"\n",
    "    Objective function for optimizing hyperparameters of a linear model, Ridge & Lasso, using Optuna.\n",
    "    \n",
    "    Args:\n",
    "        trial: A `Trial` object from Optuna that contains the state of the optimization trial.\n",
    "    \n",
    "    Returns:\n",
    "        The mean_squared_error of the validation set using the hyperparameters suggested by Optuna.\n",
    "    \"\"\"\n",
    "    \n",
    "    # Seteo de los hiperparametros\n",
    "    regression_method = trial.suggest_categorical('regression_method', ('ridge', 'lasso'))\n",
    "    if regression_method == 'ridge':\n",
    "        ridge_alpha = trial.suggest_uniform('alpha', 0.0, 2.0)\n",
    "        model = Ridge(alpha=ridge_alpha)\n",
    "    else:\n",
    "        lasso_alpha = trial.suggest_uniform('alpha', 0.0, 2.0)\n",
    "        model = Lasso(alpha=lasso_alpha)\n",
    "\n",
    "    # Entrenamiento y evalución del modelo\n",
    "    model.fit(x_train, y_train)\n",
    "    y_pred = model.predict(x_val)\n",
    "    mse_val = metrics.mean_squared_error(y_val, y_pred)**0.5\n",
    "\n",
    "    # Metrica de evalucion por optuna\n",
    "    return mse_val\n",
    "\n",
    "study_linearModel = optuna.create_study(direction='minimize')\n",
    "study_linearModel.optimize(objective_linear_model, n_trials=50)\n",
    "\n",
    "# Imprimir los resultados de la optimización\n",
    "print('Best trial: score {}, params {}'.format(study_linearModel.best_trial.value, study_linearModel.best_trial.params))"
   ]
  },
  {
   "cell_type": "code",
   "execution_count": 25,
   "metadata": {},
   "outputs": [
    {
     "data": {
      "text/plain": [
       "'lasso'"
      ]
     },
     "execution_count": 25,
     "metadata": {},
     "output_type": "execute_result"
    }
   ],
   "source": [
    "study_linearModel.best_trial.params['regression_method']"
   ]
  },
  {
   "cell_type": "code",
   "execution_count": 26,
   "metadata": {},
   "outputs": [
    {
     "name": "stdout",
     "output_type": "stream",
     "text": [
      "Métricas del Modelo: *LinearModel_Optimizado*\n",
      "ENTRENAMIENTO: RMSE: 1169.6 - R2: 0.5282\n",
      "VALIDACIÓN: RMSE: 1146.6 - R2: 0.5526 \n",
      "\n"
     ]
    },
    {
     "data": {
      "text/html": [
       "<div>\n",
       "<style scoped>\n",
       "    .dataframe tbody tr th:only-of-type {\n",
       "        vertical-align: middle;\n",
       "    }\n",
       "\n",
       "    .dataframe tbody tr th {\n",
       "        vertical-align: top;\n",
       "    }\n",
       "\n",
       "    .dataframe thead th {\n",
       "        text-align: right;\n",
       "    }\n",
       "</style>\n",
       "<table border=\"1\" class=\"dataframe\">\n",
       "  <thead>\n",
       "    <tr style=\"text-align: right;\">\n",
       "      <th></th>\n",
       "      <th>mse_train</th>\n",
       "      <th>R2_train</th>\n",
       "      <th>mse_val</th>\n",
       "      <th>R2_val</th>\n",
       "    </tr>\n",
       "  </thead>\n",
       "  <tbody>\n",
       "    <tr>\n",
       "      <th>LinearRegression</th>\n",
       "      <td>1169.35</td>\n",
       "      <td>0.5284</td>\n",
       "      <td>1146.66</td>\n",
       "      <td>0.5526</td>\n",
       "    </tr>\n",
       "    <tr>\n",
       "      <th>LinearModel_Optimizado</th>\n",
       "      <td>1169.60</td>\n",
       "      <td>0.5282</td>\n",
       "      <td>1146.60</td>\n",
       "      <td>0.5526</td>\n",
       "    </tr>\n",
       "  </tbody>\n",
       "</table>\n",
       "</div>"
      ],
      "text/plain": [
       "                        mse_train  R2_train  mse_val  R2_val\n",
       "LinearRegression          1169.35    0.5284  1146.66  0.5526\n",
       "LinearModel_Optimizado    1169.60    0.5282  1146.60  0.5526"
      ]
     },
     "execution_count": 26,
     "metadata": {},
     "output_type": "execute_result"
    }
   ],
   "source": [
    "# Entreno el modelo optimo\n",
    "model_op = Lasso(study_linearModel.best_trial.params['alpha'])\n",
    "model_op.fit(x_train, y_train)\n",
    "\n",
    "# Predicción del modelo ajustado para el conjunto de validación\n",
    "pred = model_op.predict(x_val)\n",
    "\n",
    "# Evaluo el modelo\n",
    "evaluation_score('LinearModel_Optimizado',model_op)\n",
    "\n",
    "metrics_models"
   ]
  },
  {
   "cell_type": "markdown",
   "metadata": {},
   "source": [
    "Se puede ver que no hay una mejora real en las métricas por lo que voy a evaluar otras arquitecturas para mejorar los resultados."
   ]
  },
  {
   "cell_type": "code",
   "execution_count": 28,
   "metadata": {},
   "outputs": [
    {
     "name": "stdout",
     "output_type": "stream",
     "text": [
      "Métricas del Modelo: *ElasticNet*\n",
      "ENTRENAMIENTO: RMSE: 1362.23 - R2: 0.36\n",
      "VALIDACIÓN: RMSE: 1343.04 - R2: 0.3862 \n",
      "\n",
      "Métricas del Modelo: *RandomForestRegressor*\n",
      "ENTRENAMIENTO: RMSE: 461.34 - R2: 0.9266\n",
      "VALIDACIÓN: RMSE: 1158.95 - R2: 0.543 \n",
      "\n",
      "Métricas del Modelo: *GradientBoostingRegressor*\n",
      "ENTRENAMIENTO: RMSE: 1085.17 - R2: 0.5939\n",
      "VALIDACIÓN: RMSE: 1096.04 - R2: 0.5912 \n",
      "\n"
     ]
    },
    {
     "data": {
      "text/html": [
       "<div>\n",
       "<style scoped>\n",
       "    .dataframe tbody tr th:only-of-type {\n",
       "        vertical-align: middle;\n",
       "    }\n",
       "\n",
       "    .dataframe tbody tr th {\n",
       "        vertical-align: top;\n",
       "    }\n",
       "\n",
       "    .dataframe thead th {\n",
       "        text-align: right;\n",
       "    }\n",
       "</style>\n",
       "<table border=\"1\" class=\"dataframe\">\n",
       "  <thead>\n",
       "    <tr style=\"text-align: right;\">\n",
       "      <th></th>\n",
       "      <th>mse_train</th>\n",
       "      <th>R2_train</th>\n",
       "      <th>mse_val</th>\n",
       "      <th>R2_val</th>\n",
       "    </tr>\n",
       "  </thead>\n",
       "  <tbody>\n",
       "    <tr>\n",
       "      <th>LinearRegression</th>\n",
       "      <td>1169.35</td>\n",
       "      <td>0.5284</td>\n",
       "      <td>1146.66</td>\n",
       "      <td>0.5526</td>\n",
       "    </tr>\n",
       "    <tr>\n",
       "      <th>LinearModel_Optimizado</th>\n",
       "      <td>1169.60</td>\n",
       "      <td>0.5282</td>\n",
       "      <td>1146.60</td>\n",
       "      <td>0.5526</td>\n",
       "    </tr>\n",
       "    <tr>\n",
       "      <th>ElasticNet</th>\n",
       "      <td>1362.23</td>\n",
       "      <td>0.3600</td>\n",
       "      <td>1343.04</td>\n",
       "      <td>0.3862</td>\n",
       "    </tr>\n",
       "    <tr>\n",
       "      <th>RandomForestRegressor</th>\n",
       "      <td>461.34</td>\n",
       "      <td>0.9266</td>\n",
       "      <td>1158.95</td>\n",
       "      <td>0.5430</td>\n",
       "    </tr>\n",
       "    <tr>\n",
       "      <th>GradientBoostingRegressor</th>\n",
       "      <td>1085.17</td>\n",
       "      <td>0.5939</td>\n",
       "      <td>1096.04</td>\n",
       "      <td>0.5912</td>\n",
       "    </tr>\n",
       "  </tbody>\n",
       "</table>\n",
       "</div>"
      ],
      "text/plain": [
       "                           mse_train  R2_train  mse_val  R2_val\n",
       "LinearRegression             1169.35    0.5284  1146.66  0.5526\n",
       "LinearModel_Optimizado       1169.60    0.5282  1146.60  0.5526\n",
       "ElasticNet                   1362.23    0.3600  1343.04  0.3862\n",
       "RandomForestRegressor         461.34    0.9266  1158.95  0.5430\n",
       "GradientBoostingRegressor    1085.17    0.5939  1096.04  0.5912"
      ]
     },
     "execution_count": 28,
     "metadata": {},
     "output_type": "execute_result"
    }
   ],
   "source": [
    "models = {\n",
    "    'ElasticNet':ElasticNet(),\n",
    "    'RandomForestRegressor':RandomForestRegressor(),\n",
    "    'GradientBoostingRegressor':GradientBoostingRegressor()\n",
    "}\n",
    "\n",
    "fit_models = {}\n",
    "for algo, pipeline in models.items():\n",
    "    model = pipeline.fit(x_train, y_train)\n",
    "    fit_models[algo] = model\n",
    "\n",
    "for algo, model in fit_models.items():\n",
    "    evaluation_score(algo,model)\n",
    "\n",
    "metrics_models"
   ]
  },
  {
   "cell_type": "markdown",
   "metadata": {},
   "source": [
    "Me quedo con el método 'Gradient Boosting Regressor' ya que tiene las mejores métricas en el set de validación\n",
    "\n",
    "Ahora con Optuna busco la optimización del nuevo método."
   ]
  },
  {
   "cell_type": "code",
   "execution_count": 11,
   "metadata": {},
   "outputs": [
    {
     "name": "stderr",
     "output_type": "stream",
     "text": [
      "\u001b[32m[I 2023-08-04 19:23:48,269]\u001b[0m A new study created in memory with name: no-name-6c1435ab-dec5-404d-9c50-5d83c336449c\u001b[0m\n",
      "\u001b[32m[I 2023-08-04 19:23:49,423]\u001b[0m Trial 0 finished with value: 1138.5756258751358 and parameters: {'loss': 'squared_error', 'learning_rate': 0.024812863342950006, 'n_estimators': 62, 'criterion': 'friedman_mse', 'max_depth': 8}. Best is trial 0 with value: 1138.5756258751358.\u001b[0m\n",
      "\u001b[32m[I 2023-08-04 19:23:49,667]\u001b[0m Trial 1 finished with value: 1494.6137251375758 and parameters: {'loss': 'absolute_error', 'learning_rate': 0.017434467481818917, 'n_estimators': 30, 'criterion': 'squared_error', 'max_depth': 2}. Best is trial 0 with value: 1138.5756258751358.\u001b[0m\n",
      "\u001b[32m[I 2023-08-04 19:23:58,237]\u001b[0m Trial 2 finished with value: 1157.9566294915676 and parameters: {'loss': 'huber', 'learning_rate': 0.07472174566050759, 'n_estimators': 165, 'criterion': 'friedman_mse', 'max_depth': 7, 'alpha': 0.8914882120144386}. Best is trial 0 with value: 1138.5756258751358.\u001b[0m\n",
      "\u001b[32m[I 2023-08-04 19:23:59,045]\u001b[0m Trial 3 finished with value: 1127.839845280608 and parameters: {'loss': 'squared_error', 'learning_rate': 0.07171953343349938, 'n_estimators': 39, 'criterion': 'friedman_mse', 'max_depth': 9}. Best is trial 3 with value: 1127.839845280608.\u001b[0m\n",
      "\u001b[32m[I 2023-08-04 19:24:00,605]\u001b[0m Trial 4 finished with value: 1105.5686858322374 and parameters: {'loss': 'huber', 'learning_rate': 0.06667199930671133, 'n_estimators': 60, 'criterion': 'friedman_mse', 'max_depth': 5, 'alpha': 0.45595665353966786}. Best is trial 4 with value: 1105.5686858322374.\u001b[0m\n",
      "\u001b[32m[I 2023-08-04 19:24:08,811]\u001b[0m Trial 5 finished with value: 1139.9793690212948 and parameters: {'loss': 'huber', 'learning_rate': 0.08024993219049535, 'n_estimators': 175, 'criterion': 'squared_error', 'max_depth': 7, 'alpha': 0.18834070370471367}. Best is trial 4 with value: 1105.5686858322374.\u001b[0m\n",
      "\u001b[32m[I 2023-08-04 19:24:13,926]\u001b[0m Trial 6 finished with value: 1128.6683457285067 and parameters: {'loss': 'absolute_error', 'learning_rate': 0.06955315508627632, 'n_estimators': 72, 'criterion': 'friedman_mse', 'max_depth': 9}. Best is trial 4 with value: 1105.5686858322374.\u001b[0m\n",
      "\u001b[32m[I 2023-08-04 19:24:14,997]\u001b[0m Trial 7 finished with value: 1097.2406677752913 and parameters: {'loss': 'huber', 'learning_rate': 0.04259428909799505, 'n_estimators': 114, 'criterion': 'squared_error', 'max_depth': 2, 'alpha': 0.9828694749879412}. Best is trial 7 with value: 1097.2406677752913.\u001b[0m\n",
      "\u001b[32m[I 2023-08-04 19:24:20,646]\u001b[0m Trial 8 finished with value: 1126.3761400962392 and parameters: {'loss': 'absolute_error', 'learning_rate': 0.09253714232287197, 'n_estimators': 94, 'criterion': 'friedman_mse', 'max_depth': 9}. Best is trial 7 with value: 1097.2406677752913.\u001b[0m\n",
      "\u001b[32m[I 2023-08-04 19:24:30,564]\u001b[0m Trial 9 finished with value: 1168.2941607525725 and parameters: {'loss': 'huber', 'learning_rate': 0.08212664104773809, 'n_estimators': 81, 'criterion': 'friedman_mse', 'max_depth': 9, 'alpha': 0.915531124039732}. Best is trial 7 with value: 1097.2406677752913.\u001b[0m\n",
      "\u001b[32m[I 2023-08-04 19:24:31,444]\u001b[0m Trial 10 finished with value: 1226.1947416894252 and parameters: {'loss': 'huber', 'learning_rate': 0.03901890891995057, 'n_estimators': 137, 'criterion': 'squared_error', 'max_depth': 1, 'alpha': 0.5758824391130765}. Best is trial 7 with value: 1097.2406677752913.\u001b[0m\n",
      "\u001b[32m[I 2023-08-04 19:24:33,535]\u001b[0m Trial 11 finished with value: 1101.0794655287739 and parameters: {'loss': 'huber', 'learning_rate': 0.04748521098644851, 'n_estimators': 118, 'criterion': 'squared_error', 'max_depth': 4, 'alpha': 0.44358738652820434}. Best is trial 7 with value: 1097.2406677752913.\u001b[0m\n",
      "\u001b[32m[I 2023-08-04 19:24:35,736]\u001b[0m Trial 12 finished with value: 1100.700642546995 and parameters: {'loss': 'huber', 'learning_rate': 0.04795244556738929, 'n_estimators': 122, 'criterion': 'squared_error', 'max_depth': 4, 'alpha': 0.5203401070734013}. Best is trial 7 with value: 1097.2406677752913.\u001b[0m\n",
      "\u001b[32m[I 2023-08-04 19:24:38,257]\u001b[0m Trial 13 finished with value: 1101.757117867813 and parameters: {'loss': 'huber', 'learning_rate': 0.03604429795590922, 'n_estimators': 136, 'criterion': 'squared_error', 'max_depth': 4, 'alpha': 0.7051490864688261}. Best is trial 7 with value: 1097.2406677752913.\u001b[0m\n",
      "\u001b[32m[I 2023-08-04 19:24:39,802]\u001b[0m Trial 14 finished with value: 1100.5830875234503 and parameters: {'loss': 'huber', 'learning_rate': 0.055389849692409995, 'n_estimators': 114, 'criterion': 'squared_error', 'max_depth': 3, 'alpha': 0.03328954116568339}. Best is trial 7 with value: 1097.2406677752913.\u001b[0m\n",
      "\u001b[32m[I 2023-08-04 19:24:40,706]\u001b[0m Trial 15 finished with value: 1092.4955225928672 and parameters: {'loss': 'squared_error', 'learning_rate': 0.0598952381259134, 'n_estimators': 156, 'criterion': 'squared_error', 'max_depth': 2}. Best is trial 15 with value: 1092.4955225928672.\u001b[0m\n",
      "\u001b[32m[I 2023-08-04 19:24:41,444]\u001b[0m Trial 16 finished with value: 1148.6748614364772 and parameters: {'loss': 'squared_error', 'learning_rate': 0.05824707120982421, 'n_estimators': 200, 'criterion': 'squared_error', 'max_depth': 1}. Best is trial 15 with value: 1092.4955225928672.\u001b[0m\n",
      "\u001b[32m[I 2023-08-04 19:24:42,393]\u001b[0m Trial 17 finished with value: 1094.6606603810583 and parameters: {'loss': 'squared_error', 'learning_rate': 0.03093974164514476, 'n_estimators': 163, 'criterion': 'squared_error', 'max_depth': 2}. Best is trial 15 with value: 1092.4955225928672.\u001b[0m\n",
      "\u001b[32m[I 2023-08-04 19:24:43,384]\u001b[0m Trial 18 finished with value: 1098.0106087819372 and parameters: {'loss': 'squared_error', 'learning_rate': 0.025250377985745004, 'n_estimators': 162, 'criterion': 'squared_error', 'max_depth': 2}. Best is trial 15 with value: 1092.4955225928672.\u001b[0m\n",
      "\u001b[32m[I 2023-08-04 19:24:45,629]\u001b[0m Trial 19 finished with value: 1098.8996119692079 and parameters: {'loss': 'squared_error', 'learning_rate': 0.030669473519893572, 'n_estimators': 186, 'criterion': 'squared_error', 'max_depth': 5}. Best is trial 15 with value: 1092.4955225928672.\u001b[0m\n",
      "\u001b[32m[I 2023-08-04 19:24:46,761]\u001b[0m Trial 20 finished with value: 1130.8761656713639 and parameters: {'loss': 'squared_error', 'learning_rate': 0.012337530359532306, 'n_estimators': 145, 'criterion': 'squared_error', 'max_depth': 3}. Best is trial 15 with value: 1092.4955225928672.\u001b[0m\n",
      "\u001b[32m[I 2023-08-04 19:24:47,632]\u001b[0m Trial 21 finished with value: 1093.148412338178 and parameters: {'loss': 'squared_error', 'learning_rate': 0.04363491424576936, 'n_estimators': 152, 'criterion': 'squared_error', 'max_depth': 2}. Best is trial 15 with value: 1092.4955225928672.\u001b[0m\n",
      "\u001b[32m[I 2023-08-04 19:24:48,162]\u001b[0m Trial 22 finished with value: 1150.9038021648537 and parameters: {'loss': 'squared_error', 'learning_rate': 0.0602976264359364, 'n_estimators': 152, 'criterion': 'squared_error', 'max_depth': 1}. Best is trial 15 with value: 1092.4955225928672.\u001b[0m\n",
      "\u001b[32m[I 2023-08-04 19:24:49,730]\u001b[0m Trial 23 finished with value: 1093.5476502140825 and parameters: {'loss': 'squared_error', 'learning_rate': 0.04860507724317582, 'n_estimators': 183, 'criterion': 'squared_error', 'max_depth': 3}. Best is trial 15 with value: 1092.4955225928672.\u001b[0m\n",
      "\u001b[32m[I 2023-08-04 19:24:51,261]\u001b[0m Trial 24 finished with value: 1094.0423812847146 and parameters: {'loss': 'squared_error', 'learning_rate': 0.048336811404534615, 'n_estimators': 198, 'criterion': 'squared_error', 'max_depth': 3}. Best is trial 15 with value: 1092.4955225928672.\u001b[0m\n",
      "\u001b[32m[I 2023-08-04 19:24:52,758]\u001b[0m Trial 25 finished with value: 1095.145174721478 and parameters: {'loss': 'squared_error', 'learning_rate': 0.060489889845540795, 'n_estimators': 185, 'criterion': 'squared_error', 'max_depth': 3}. Best is trial 15 with value: 1092.4955225928672.\u001b[0m\n",
      "\u001b[32m[I 2023-08-04 19:24:55,287]\u001b[0m Trial 26 finished with value: 1119.0161060235303 and parameters: {'loss': 'squared_error', 'learning_rate': 0.05010022082555947, 'n_estimators': 179, 'criterion': 'squared_error', 'max_depth': 6}. Best is trial 15 with value: 1092.4955225928672.\u001b[0m\n",
      "\u001b[32m[I 2023-08-04 19:24:55,760]\u001b[0m Trial 27 finished with value: 1148.0876205686952 and parameters: {'loss': 'squared_error', 'learning_rate': 0.09665229678675849, 'n_estimators': 143, 'criterion': 'squared_error', 'max_depth': 1}. Best is trial 15 with value: 1092.4955225928672.\u001b[0m\n",
      "\u001b[32m[I 2023-08-04 19:24:55,893]\u001b[0m Trial 28 finished with value: 1330.0335386650038 and parameters: {'loss': 'squared_error', 'learning_rate': 0.04196726489898347, 'n_estimators': 13, 'criterion': 'squared_error', 'max_depth': 4}. Best is trial 15 with value: 1092.4955225928672.\u001b[0m\n",
      "\u001b[32m[I 2023-08-04 19:24:56,662]\u001b[0m Trial 29 finished with value: 1093.1552666056568 and parameters: {'loss': 'squared_error', 'learning_rate': 0.05317977982181592, 'n_estimators': 131, 'criterion': 'squared_error', 'max_depth': 2}. Best is trial 15 with value: 1092.4955225928672.\u001b[0m\n",
      "\u001b[32m[I 2023-08-04 19:24:57,733]\u001b[0m Trial 30 finished with value: 1103.749216081947 and parameters: {'loss': 'absolute_error', 'learning_rate': 0.06382991614712163, 'n_estimators': 129, 'criterion': 'squared_error', 'max_depth': 2}. Best is trial 15 with value: 1092.4955225928672.\u001b[0m\n",
      "\u001b[32m[I 2023-08-04 19:24:59,105]\u001b[0m Trial 31 finished with value: 1094.0743471695098 and parameters: {'loss': 'squared_error', 'learning_rate': 0.05320808402485114, 'n_estimators': 155, 'criterion': 'squared_error', 'max_depth': 3}. Best is trial 15 with value: 1092.4955225928672.\u001b[0m\n",
      "\u001b[32m[I 2023-08-04 19:24:59,684]\u001b[0m Trial 32 finished with value: 1106.0236558756337 and parameters: {'loss': 'squared_error', 'learning_rate': 0.03309574991978345, 'n_estimators': 103, 'criterion': 'squared_error', 'max_depth': 2}. Best is trial 15 with value: 1092.4955225928672.\u001b[0m\n",
      "\u001b[32m[I 2023-08-04 19:25:00,285]\u001b[0m Trial 33 finished with value: 1156.7212847478054 and parameters: {'loss': 'squared_error', 'learning_rate': 0.04352816385179592, 'n_estimators': 173, 'criterion': 'squared_error', 'max_depth': 1}. Best is trial 15 with value: 1092.4955225928672.\u001b[0m\n",
      "\u001b[32m[I 2023-08-04 19:25:01,506]\u001b[0m Trial 34 finished with value: 1093.953314875506 and parameters: {'loss': 'squared_error', 'learning_rate': 0.05412753025648558, 'n_estimators': 153, 'criterion': 'squared_error', 'max_depth': 3}. Best is trial 15 with value: 1092.4955225928672.\u001b[0m\n",
      "\u001b[32m[I 2023-08-04 19:25:02,245]\u001b[0m Trial 35 finished with value: 1115.5624293747549 and parameters: {'loss': 'squared_error', 'learning_rate': 0.023097663755388922, 'n_estimators': 129, 'criterion': 'friedman_mse', 'max_depth': 2}. Best is trial 15 with value: 1092.4955225928672.\u001b[0m\n",
      "\u001b[32m[I 2023-08-04 19:25:05,612]\u001b[0m Trial 36 finished with value: 1106.6724380194205 and parameters: {'loss': 'absolute_error', 'learning_rate': 0.07445662357375896, 'n_estimators': 173, 'criterion': 'squared_error', 'max_depth': 5}. Best is trial 15 with value: 1092.4955225928672.\u001b[0m\n",
      "\u001b[32m[I 2023-08-04 19:25:08,281]\u001b[0m Trial 37 finished with value: 1125.1256721356438 and parameters: {'loss': 'squared_error', 'learning_rate': 0.06546867305842805, 'n_estimators': 187, 'criterion': 'friedman_mse', 'max_depth': 6}. Best is trial 15 with value: 1092.4955225928672.\u001b[0m\n",
      "\u001b[32m[I 2023-08-04 19:25:12,136]\u001b[0m Trial 38 finished with value: 1195.515069580662 and parameters: {'loss': 'squared_error', 'learning_rate': 0.07880818927270897, 'n_estimators': 164, 'criterion': 'squared_error', 'max_depth': 10}. Best is trial 15 with value: 1092.4955225928672.\u001b[0m\n",
      "\u001b[32m[I 2023-08-04 19:25:12,966]\u001b[0m Trial 39 finished with value: 1093.3082653244312 and parameters: {'loss': 'squared_error', 'learning_rate': 0.04492954283971949, 'n_estimators': 148, 'criterion': 'friedman_mse', 'max_depth': 2}. Best is trial 15 with value: 1092.4955225928672.\u001b[0m\n",
      "\u001b[32m[I 2023-08-04 19:25:13,751]\u001b[0m Trial 40 finished with value: 1106.5576877918136 and parameters: {'loss': 'absolute_error', 'learning_rate': 0.06942671032179339, 'n_estimators': 99, 'criterion': 'friedman_mse', 'max_depth': 2}. Best is trial 15 with value: 1092.4955225928672.\u001b[0m\n",
      "\u001b[32m[I 2023-08-04 19:25:14,249]\u001b[0m Trial 41 finished with value: 1165.7943711114062 and parameters: {'loss': 'squared_error', 'learning_rate': 0.04375885109708937, 'n_estimators': 141, 'criterion': 'friedman_mse', 'max_depth': 1}. Best is trial 15 with value: 1092.4955225928672.\u001b[0m\n",
      "\u001b[32m[I 2023-08-04 19:25:15,166]\u001b[0m Trial 42 finished with value: 1092.7569580044214 and parameters: {'loss': 'squared_error', 'learning_rate': 0.05161287910434297, 'n_estimators': 152, 'criterion': 'friedman_mse', 'max_depth': 2}. Best is trial 15 with value: 1092.4955225928672.\u001b[0m\n",
      "\u001b[32m[I 2023-08-04 19:25:15,914]\u001b[0m Trial 43 finished with value: 1092.8909231659475 and parameters: {'loss': 'squared_error', 'learning_rate': 0.05650093201590544, 'n_estimators': 129, 'criterion': 'friedman_mse', 'max_depth': 2}. Best is trial 15 with value: 1092.4955225928672.\u001b[0m\n",
      "\u001b[32m[I 2023-08-04 19:25:17,589]\u001b[0m Trial 44 finished with value: 1127.583012242457 and parameters: {'loss': 'squared_error', 'learning_rate': 0.057113188796065834, 'n_estimators': 89, 'criterion': 'friedman_mse', 'max_depth': 8}. Best is trial 15 with value: 1092.4955225928672.\u001b[0m\n",
      "\u001b[32m[I 2023-08-04 19:25:18,039]\u001b[0m Trial 45 finished with value: 1154.1678940943732 and parameters: {'loss': 'squared_error', 'learning_rate': 0.0634023954661725, 'n_estimators': 127, 'criterion': 'friedman_mse', 'max_depth': 1}. Best is trial 15 with value: 1092.4955225928672.\u001b[0m\n",
      "\u001b[32m[I 2023-08-04 19:25:19,204]\u001b[0m Trial 46 finished with value: 1095.568111280188 and parameters: {'loss': 'squared_error', 'learning_rate': 0.0520773065305872, 'n_estimators': 110, 'criterion': 'friedman_mse', 'max_depth': 4}. Best is trial 15 with value: 1092.4955225928672.\u001b[0m\n",
      "\u001b[32m[I 2023-08-04 19:25:20,297]\u001b[0m Trial 47 finished with value: 1100.7929610454617 and parameters: {'loss': 'absolute_error', 'learning_rate': 0.0849319671613641, 'n_estimators': 135, 'criterion': 'friedman_mse', 'max_depth': 2}. Best is trial 15 with value: 1092.4955225928672.\u001b[0m\n",
      "\u001b[32m[I 2023-08-04 19:25:21,620]\u001b[0m Trial 48 finished with value: 1093.7237616302764 and parameters: {'loss': 'squared_error', 'learning_rate': 0.03843982922553853, 'n_estimators': 157, 'criterion': 'friedman_mse', 'max_depth': 3}. Best is trial 15 with value: 1092.4955225928672.\u001b[0m\n",
      "\u001b[32m[I 2023-08-04 19:25:22,032]\u001b[0m Trial 49 finished with value: 1152.4624546953544 and parameters: {'loss': 'squared_error', 'learning_rate': 0.06969423215767878, 'n_estimators': 122, 'criterion': 'friedman_mse', 'max_depth': 1}. Best is trial 15 with value: 1092.4955225928672.\u001b[0m\n"
     ]
    },
    {
     "name": "stdout",
     "output_type": "stream",
     "text": [
      "Best trial: score 1092.4955225928672, params {'loss': 'squared_error', 'learning_rate': 0.0598952381259134, 'n_estimators': 156, 'criterion': 'squared_error', 'max_depth': 2}\n"
     ]
    }
   ],
   "source": [
    "def objective(trial):\n",
    "    \"\"\"\n",
    "    Objective function for optimizing hyperparameters of a Gradient Boosting Regressor using Optuna.\n",
    "    \n",
    "    Args:\n",
    "        trial: A `Trial` object from Optuna that contains the state of the optimization trial.\n",
    "    \n",
    "    Returns:\n",
    "        The mean_squared_error of the validation set using the hyperparameters suggested by Optuna.\n",
    "    \"\"\"\n",
    "    loss = trial.suggest_categorical(\"loss\", ['squared_error', 'absolute_error', 'huber'])\n",
    "    learning_rate = trial.suggest_uniform('learning_rate', 0.01, 0.1)\n",
    "    n_estimators = trial.suggest_int('n_estimators', 10, 200)\n",
    "    criterion = trial.suggest_categorical(\"criterion\", ['friedman_mse', 'squared_error'])\n",
    "    max_depth = trial.suggest_int('max_depth', 1, 10)\n",
    "    if loss == 'huber':\n",
    "        alpha = trial.suggest_uniform('alpha', 0.0, 1.0)\n",
    "    else:\n",
    "        alpha = 0.9\n",
    "    \n",
    "    \n",
    "    # Crear el clasificador con los hiperparámetros sugeridos por Optuna\n",
    "    model = GradientBoostingRegressor(\n",
    "                                    loss = loss,\n",
    "                                    learning_rate = learning_rate,\n",
    "                                    n_estimators = n_estimators,\n",
    "                                    criterion = criterion,\n",
    "                                    max_depth = max_depth,\n",
    "                                    alpha=alpha\n",
    "                                    )\n",
    "    \n",
    "    # Entrenar el clasificador y calcular la precisión en el conjunto de prueba\n",
    "    model.fit(x_train, y_train)\n",
    "    pred = model.predict(x_val)\n",
    "    mse_val = (metrics.mean_squared_error(y_val, pred))**0.5\n",
    "\n",
    "\n",
    "    return mse_val\n",
    "\n",
    "# Crear el estudio de Optuna y ejecutar la optimización\n",
    "\n",
    "sampler = optuna.samplers.TPESampler(seed=42)\n",
    "study = optuna.create_study(direction='minimize')\n",
    "study.optimize(objective, n_trials=50)\n",
    "\n",
    "# Imprimir los resultados de la optimización\n",
    "print('Best trial: score {}, params {}'.format(study.best_trial.value, study.best_trial.params))"
   ]
  },
  {
   "cell_type": "code",
   "execution_count": 12,
   "metadata": {},
   "outputs": [
    {
     "data": {
      "application/vnd.plotly.v1+json": {
       "config": {
        "plotlyServerURL": "https://plot.ly"
       },
       "data": [
        {
         "mode": "markers",
         "name": "Objective Value",
         "type": "scatter",
         "x": [
          0,
          1,
          2,
          3,
          4,
          5,
          6,
          7,
          8,
          9,
          10,
          11,
          12,
          13,
          14,
          15,
          16,
          17,
          18,
          19,
          20,
          21,
          22,
          23,
          24,
          25,
          26,
          27,
          28,
          29,
          30,
          31,
          32,
          33,
          34,
          35,
          36,
          37,
          38,
          39,
          40,
          41,
          42,
          43,
          44,
          45,
          46,
          47,
          48,
          49
         ],
         "y": [
          1138.5756258751358,
          1494.6137251375758,
          1157.9566294915676,
          1127.839845280608,
          1105.5686858322374,
          1139.9793690212948,
          1128.6683457285067,
          1097.2406677752913,
          1126.3761400962392,
          1168.2941607525725,
          1226.1947416894252,
          1101.0794655287739,
          1100.700642546995,
          1101.757117867813,
          1100.5830875234503,
          1092.4955225928672,
          1148.6748614364772,
          1094.6606603810583,
          1098.0106087819372,
          1098.8996119692079,
          1130.8761656713639,
          1093.148412338178,
          1150.9038021648537,
          1093.5476502140825,
          1094.0423812847146,
          1095.145174721478,
          1119.0161060235303,
          1148.0876205686952,
          1330.0335386650038,
          1093.1552666056568,
          1103.749216081947,
          1094.0743471695098,
          1106.0236558756337,
          1156.7212847478054,
          1093.953314875506,
          1115.5624293747549,
          1106.6724380194205,
          1125.1256721356438,
          1195.515069580662,
          1093.3082653244312,
          1106.5576877918136,
          1165.7943711114062,
          1092.7569580044214,
          1092.8909231659475,
          1127.583012242457,
          1154.1678940943732,
          1095.568111280188,
          1100.7929610454617,
          1093.7237616302764,
          1152.4624546953544
         ]
        },
        {
         "name": "Best Value",
         "type": "scatter",
         "x": [
          0,
          1,
          2,
          3,
          4,
          5,
          6,
          7,
          8,
          9,
          10,
          11,
          12,
          13,
          14,
          15,
          16,
          17,
          18,
          19,
          20,
          21,
          22,
          23,
          24,
          25,
          26,
          27,
          28,
          29,
          30,
          31,
          32,
          33,
          34,
          35,
          36,
          37,
          38,
          39,
          40,
          41,
          42,
          43,
          44,
          45,
          46,
          47,
          48,
          49
         ],
         "y": [
          1138.5756258751358,
          1138.5756258751358,
          1138.5756258751358,
          1127.839845280608,
          1105.5686858322374,
          1105.5686858322374,
          1105.5686858322374,
          1097.2406677752913,
          1097.2406677752913,
          1097.2406677752913,
          1097.2406677752913,
          1097.2406677752913,
          1097.2406677752913,
          1097.2406677752913,
          1097.2406677752913,
          1092.4955225928672,
          1092.4955225928672,
          1092.4955225928672,
          1092.4955225928672,
          1092.4955225928672,
          1092.4955225928672,
          1092.4955225928672,
          1092.4955225928672,
          1092.4955225928672,
          1092.4955225928672,
          1092.4955225928672,
          1092.4955225928672,
          1092.4955225928672,
          1092.4955225928672,
          1092.4955225928672,
          1092.4955225928672,
          1092.4955225928672,
          1092.4955225928672,
          1092.4955225928672,
          1092.4955225928672,
          1092.4955225928672,
          1092.4955225928672,
          1092.4955225928672,
          1092.4955225928672,
          1092.4955225928672,
          1092.4955225928672,
          1092.4955225928672,
          1092.4955225928672,
          1092.4955225928672,
          1092.4955225928672,
          1092.4955225928672,
          1092.4955225928672,
          1092.4955225928672,
          1092.4955225928672,
          1092.4955225928672
         ]
        }
       ],
       "layout": {
        "template": {
         "data": {
          "bar": [
           {
            "error_x": {
             "color": "#2a3f5f"
            },
            "error_y": {
             "color": "#2a3f5f"
            },
            "marker": {
             "line": {
              "color": "#E5ECF6",
              "width": 0.5
             },
             "pattern": {
              "fillmode": "overlay",
              "size": 10,
              "solidity": 0.2
             }
            },
            "type": "bar"
           }
          ],
          "barpolar": [
           {
            "marker": {
             "line": {
              "color": "#E5ECF6",
              "width": 0.5
             },
             "pattern": {
              "fillmode": "overlay",
              "size": 10,
              "solidity": 0.2
             }
            },
            "type": "barpolar"
           }
          ],
          "carpet": [
           {
            "aaxis": {
             "endlinecolor": "#2a3f5f",
             "gridcolor": "white",
             "linecolor": "white",
             "minorgridcolor": "white",
             "startlinecolor": "#2a3f5f"
            },
            "baxis": {
             "endlinecolor": "#2a3f5f",
             "gridcolor": "white",
             "linecolor": "white",
             "minorgridcolor": "white",
             "startlinecolor": "#2a3f5f"
            },
            "type": "carpet"
           }
          ],
          "choropleth": [
           {
            "colorbar": {
             "outlinewidth": 0,
             "ticks": ""
            },
            "type": "choropleth"
           }
          ],
          "contour": [
           {
            "colorbar": {
             "outlinewidth": 0,
             "ticks": ""
            },
            "colorscale": [
             [
              0,
              "#0d0887"
             ],
             [
              0.1111111111111111,
              "#46039f"
             ],
             [
              0.2222222222222222,
              "#7201a8"
             ],
             [
              0.3333333333333333,
              "#9c179e"
             ],
             [
              0.4444444444444444,
              "#bd3786"
             ],
             [
              0.5555555555555556,
              "#d8576b"
             ],
             [
              0.6666666666666666,
              "#ed7953"
             ],
             [
              0.7777777777777778,
              "#fb9f3a"
             ],
             [
              0.8888888888888888,
              "#fdca26"
             ],
             [
              1,
              "#f0f921"
             ]
            ],
            "type": "contour"
           }
          ],
          "contourcarpet": [
           {
            "colorbar": {
             "outlinewidth": 0,
             "ticks": ""
            },
            "type": "contourcarpet"
           }
          ],
          "heatmap": [
           {
            "colorbar": {
             "outlinewidth": 0,
             "ticks": ""
            },
            "colorscale": [
             [
              0,
              "#0d0887"
             ],
             [
              0.1111111111111111,
              "#46039f"
             ],
             [
              0.2222222222222222,
              "#7201a8"
             ],
             [
              0.3333333333333333,
              "#9c179e"
             ],
             [
              0.4444444444444444,
              "#bd3786"
             ],
             [
              0.5555555555555556,
              "#d8576b"
             ],
             [
              0.6666666666666666,
              "#ed7953"
             ],
             [
              0.7777777777777778,
              "#fb9f3a"
             ],
             [
              0.8888888888888888,
              "#fdca26"
             ],
             [
              1,
              "#f0f921"
             ]
            ],
            "type": "heatmap"
           }
          ],
          "heatmapgl": [
           {
            "colorbar": {
             "outlinewidth": 0,
             "ticks": ""
            },
            "colorscale": [
             [
              0,
              "#0d0887"
             ],
             [
              0.1111111111111111,
              "#46039f"
             ],
             [
              0.2222222222222222,
              "#7201a8"
             ],
             [
              0.3333333333333333,
              "#9c179e"
             ],
             [
              0.4444444444444444,
              "#bd3786"
             ],
             [
              0.5555555555555556,
              "#d8576b"
             ],
             [
              0.6666666666666666,
              "#ed7953"
             ],
             [
              0.7777777777777778,
              "#fb9f3a"
             ],
             [
              0.8888888888888888,
              "#fdca26"
             ],
             [
              1,
              "#f0f921"
             ]
            ],
            "type": "heatmapgl"
           }
          ],
          "histogram": [
           {
            "marker": {
             "pattern": {
              "fillmode": "overlay",
              "size": 10,
              "solidity": 0.2
             }
            },
            "type": "histogram"
           }
          ],
          "histogram2d": [
           {
            "colorbar": {
             "outlinewidth": 0,
             "ticks": ""
            },
            "colorscale": [
             [
              0,
              "#0d0887"
             ],
             [
              0.1111111111111111,
              "#46039f"
             ],
             [
              0.2222222222222222,
              "#7201a8"
             ],
             [
              0.3333333333333333,
              "#9c179e"
             ],
             [
              0.4444444444444444,
              "#bd3786"
             ],
             [
              0.5555555555555556,
              "#d8576b"
             ],
             [
              0.6666666666666666,
              "#ed7953"
             ],
             [
              0.7777777777777778,
              "#fb9f3a"
             ],
             [
              0.8888888888888888,
              "#fdca26"
             ],
             [
              1,
              "#f0f921"
             ]
            ],
            "type": "histogram2d"
           }
          ],
          "histogram2dcontour": [
           {
            "colorbar": {
             "outlinewidth": 0,
             "ticks": ""
            },
            "colorscale": [
             [
              0,
              "#0d0887"
             ],
             [
              0.1111111111111111,
              "#46039f"
             ],
             [
              0.2222222222222222,
              "#7201a8"
             ],
             [
              0.3333333333333333,
              "#9c179e"
             ],
             [
              0.4444444444444444,
              "#bd3786"
             ],
             [
              0.5555555555555556,
              "#d8576b"
             ],
             [
              0.6666666666666666,
              "#ed7953"
             ],
             [
              0.7777777777777778,
              "#fb9f3a"
             ],
             [
              0.8888888888888888,
              "#fdca26"
             ],
             [
              1,
              "#f0f921"
             ]
            ],
            "type": "histogram2dcontour"
           }
          ],
          "mesh3d": [
           {
            "colorbar": {
             "outlinewidth": 0,
             "ticks": ""
            },
            "type": "mesh3d"
           }
          ],
          "parcoords": [
           {
            "line": {
             "colorbar": {
              "outlinewidth": 0,
              "ticks": ""
             }
            },
            "type": "parcoords"
           }
          ],
          "pie": [
           {
            "automargin": true,
            "type": "pie"
           }
          ],
          "scatter": [
           {
            "fillpattern": {
             "fillmode": "overlay",
             "size": 10,
             "solidity": 0.2
            },
            "type": "scatter"
           }
          ],
          "scatter3d": [
           {
            "line": {
             "colorbar": {
              "outlinewidth": 0,
              "ticks": ""
             }
            },
            "marker": {
             "colorbar": {
              "outlinewidth": 0,
              "ticks": ""
             }
            },
            "type": "scatter3d"
           }
          ],
          "scattercarpet": [
           {
            "marker": {
             "colorbar": {
              "outlinewidth": 0,
              "ticks": ""
             }
            },
            "type": "scattercarpet"
           }
          ],
          "scattergeo": [
           {
            "marker": {
             "colorbar": {
              "outlinewidth": 0,
              "ticks": ""
             }
            },
            "type": "scattergeo"
           }
          ],
          "scattergl": [
           {
            "marker": {
             "colorbar": {
              "outlinewidth": 0,
              "ticks": ""
             }
            },
            "type": "scattergl"
           }
          ],
          "scattermapbox": [
           {
            "marker": {
             "colorbar": {
              "outlinewidth": 0,
              "ticks": ""
             }
            },
            "type": "scattermapbox"
           }
          ],
          "scatterpolar": [
           {
            "marker": {
             "colorbar": {
              "outlinewidth": 0,
              "ticks": ""
             }
            },
            "type": "scatterpolar"
           }
          ],
          "scatterpolargl": [
           {
            "marker": {
             "colorbar": {
              "outlinewidth": 0,
              "ticks": ""
             }
            },
            "type": "scatterpolargl"
           }
          ],
          "scatterternary": [
           {
            "marker": {
             "colorbar": {
              "outlinewidth": 0,
              "ticks": ""
             }
            },
            "type": "scatterternary"
           }
          ],
          "surface": [
           {
            "colorbar": {
             "outlinewidth": 0,
             "ticks": ""
            },
            "colorscale": [
             [
              0,
              "#0d0887"
             ],
             [
              0.1111111111111111,
              "#46039f"
             ],
             [
              0.2222222222222222,
              "#7201a8"
             ],
             [
              0.3333333333333333,
              "#9c179e"
             ],
             [
              0.4444444444444444,
              "#bd3786"
             ],
             [
              0.5555555555555556,
              "#d8576b"
             ],
             [
              0.6666666666666666,
              "#ed7953"
             ],
             [
              0.7777777777777778,
              "#fb9f3a"
             ],
             [
              0.8888888888888888,
              "#fdca26"
             ],
             [
              1,
              "#f0f921"
             ]
            ],
            "type": "surface"
           }
          ],
          "table": [
           {
            "cells": {
             "fill": {
              "color": "#EBF0F8"
             },
             "line": {
              "color": "white"
             }
            },
            "header": {
             "fill": {
              "color": "#C8D4E3"
             },
             "line": {
              "color": "white"
             }
            },
            "type": "table"
           }
          ]
         },
         "layout": {
          "annotationdefaults": {
           "arrowcolor": "#2a3f5f",
           "arrowhead": 0,
           "arrowwidth": 1
          },
          "autotypenumbers": "strict",
          "coloraxis": {
           "colorbar": {
            "outlinewidth": 0,
            "ticks": ""
           }
          },
          "colorscale": {
           "diverging": [
            [
             0,
             "#8e0152"
            ],
            [
             0.1,
             "#c51b7d"
            ],
            [
             0.2,
             "#de77ae"
            ],
            [
             0.3,
             "#f1b6da"
            ],
            [
             0.4,
             "#fde0ef"
            ],
            [
             0.5,
             "#f7f7f7"
            ],
            [
             0.6,
             "#e6f5d0"
            ],
            [
             0.7,
             "#b8e186"
            ],
            [
             0.8,
             "#7fbc41"
            ],
            [
             0.9,
             "#4d9221"
            ],
            [
             1,
             "#276419"
            ]
           ],
           "sequential": [
            [
             0,
             "#0d0887"
            ],
            [
             0.1111111111111111,
             "#46039f"
            ],
            [
             0.2222222222222222,
             "#7201a8"
            ],
            [
             0.3333333333333333,
             "#9c179e"
            ],
            [
             0.4444444444444444,
             "#bd3786"
            ],
            [
             0.5555555555555556,
             "#d8576b"
            ],
            [
             0.6666666666666666,
             "#ed7953"
            ],
            [
             0.7777777777777778,
             "#fb9f3a"
            ],
            [
             0.8888888888888888,
             "#fdca26"
            ],
            [
             1,
             "#f0f921"
            ]
           ],
           "sequentialminus": [
            [
             0,
             "#0d0887"
            ],
            [
             0.1111111111111111,
             "#46039f"
            ],
            [
             0.2222222222222222,
             "#7201a8"
            ],
            [
             0.3333333333333333,
             "#9c179e"
            ],
            [
             0.4444444444444444,
             "#bd3786"
            ],
            [
             0.5555555555555556,
             "#d8576b"
            ],
            [
             0.6666666666666666,
             "#ed7953"
            ],
            [
             0.7777777777777778,
             "#fb9f3a"
            ],
            [
             0.8888888888888888,
             "#fdca26"
            ],
            [
             1,
             "#f0f921"
            ]
           ]
          },
          "colorway": [
           "#636efa",
           "#EF553B",
           "#00cc96",
           "#ab63fa",
           "#FFA15A",
           "#19d3f3",
           "#FF6692",
           "#B6E880",
           "#FF97FF",
           "#FECB52"
          ],
          "font": {
           "color": "#2a3f5f"
          },
          "geo": {
           "bgcolor": "white",
           "lakecolor": "white",
           "landcolor": "#E5ECF6",
           "showlakes": true,
           "showland": true,
           "subunitcolor": "white"
          },
          "hoverlabel": {
           "align": "left"
          },
          "hovermode": "closest",
          "mapbox": {
           "style": "light"
          },
          "paper_bgcolor": "white",
          "plot_bgcolor": "#E5ECF6",
          "polar": {
           "angularaxis": {
            "gridcolor": "white",
            "linecolor": "white",
            "ticks": ""
           },
           "bgcolor": "#E5ECF6",
           "radialaxis": {
            "gridcolor": "white",
            "linecolor": "white",
            "ticks": ""
           }
          },
          "scene": {
           "xaxis": {
            "backgroundcolor": "#E5ECF6",
            "gridcolor": "white",
            "gridwidth": 2,
            "linecolor": "white",
            "showbackground": true,
            "ticks": "",
            "zerolinecolor": "white"
           },
           "yaxis": {
            "backgroundcolor": "#E5ECF6",
            "gridcolor": "white",
            "gridwidth": 2,
            "linecolor": "white",
            "showbackground": true,
            "ticks": "",
            "zerolinecolor": "white"
           },
           "zaxis": {
            "backgroundcolor": "#E5ECF6",
            "gridcolor": "white",
            "gridwidth": 2,
            "linecolor": "white",
            "showbackground": true,
            "ticks": "",
            "zerolinecolor": "white"
           }
          },
          "shapedefaults": {
           "line": {
            "color": "#2a3f5f"
           }
          },
          "ternary": {
           "aaxis": {
            "gridcolor": "white",
            "linecolor": "white",
            "ticks": ""
           },
           "baxis": {
            "gridcolor": "white",
            "linecolor": "white",
            "ticks": ""
           },
           "bgcolor": "#E5ECF6",
           "caxis": {
            "gridcolor": "white",
            "linecolor": "white",
            "ticks": ""
           }
          },
          "title": {
           "x": 0.05
          },
          "xaxis": {
           "automargin": true,
           "gridcolor": "white",
           "linecolor": "white",
           "ticks": "",
           "title": {
            "standoff": 15
           },
           "zerolinecolor": "white",
           "zerolinewidth": 2
          },
          "yaxis": {
           "automargin": true,
           "gridcolor": "white",
           "linecolor": "white",
           "ticks": "",
           "title": {
            "standoff": 15
           },
           "zerolinecolor": "white",
           "zerolinewidth": 2
          }
         }
        },
        "title": {
         "text": "Optimization History Plot"
        },
        "xaxis": {
         "title": {
          "text": "#Trials"
         }
        },
        "yaxis": {
         "title": {
          "text": "Objective Value"
         }
        }
       }
      }
     },
     "metadata": {},
     "output_type": "display_data"
    }
   ],
   "source": [
    "optuna.visualization.plot_optimization_history(study)"
   ]
  },
  {
   "cell_type": "code",
   "execution_count": 13,
   "metadata": {},
   "outputs": [
    {
     "data": {
      "application/vnd.plotly.v1+json": {
       "config": {
        "plotlyServerURL": "https://plot.ly"
       },
       "data": [
        {
         "dimensions": [
          {
           "label": "Objective Value",
           "range": [
            1092.4955225928672,
            1494.6137251375758
           ],
           "values": [
            1138.5756258751358,
            1494.6137251375758,
            1157.9566294915676,
            1127.839845280608,
            1105.5686858322374,
            1139.9793690212948,
            1128.6683457285067,
            1097.2406677752913,
            1126.3761400962392,
            1168.2941607525725,
            1226.1947416894252,
            1101.0794655287739,
            1100.700642546995,
            1101.757117867813,
            1100.5830875234503,
            1092.4955225928672,
            1148.6748614364772,
            1094.6606603810583,
            1098.0106087819372,
            1098.8996119692079,
            1130.8761656713639,
            1093.148412338178,
            1150.9038021648537,
            1093.5476502140825,
            1094.0423812847146,
            1095.145174721478,
            1119.0161060235303,
            1148.0876205686952,
            1330.0335386650038,
            1093.1552666056568,
            1103.749216081947,
            1094.0743471695098,
            1106.0236558756337,
            1156.7212847478054,
            1093.953314875506,
            1115.5624293747549,
            1106.6724380194205,
            1125.1256721356438,
            1195.515069580662,
            1093.3082653244312,
            1106.5576877918136,
            1165.7943711114062,
            1092.7569580044214,
            1092.8909231659475,
            1127.583012242457,
            1154.1678940943732,
            1095.568111280188,
            1100.7929610454617,
            1093.7237616302764,
            1152.4624546953544
           ]
          },
          {
           "label": "alpha",
           "range": [
            0.03328954116568339,
            0.9828694749879412
           ],
           "values": [
            0.8914882120144386,
            0.45595665353966786,
            0.18834070370471367,
            0.9828694749879412,
            0.915531124039732,
            0.5758824391130765,
            0.44358738652820434,
            0.5203401070734013,
            0.7051490864688261,
            0.03328954116568339
           ]
          },
          {
           "label": "criterion",
           "range": [
            0,
            1
           ],
           "ticktext": [
            "friedman_mse",
            "squared_error"
           ],
           "tickvals": [
            0,
            1
           ],
           "values": [
            0,
            1,
            0,
            0,
            0,
            1,
            0,
            1,
            0,
            0,
            1,
            1,
            1,
            1,
            1,
            1,
            1,
            1,
            1,
            1,
            1,
            1,
            1,
            1,
            1,
            1,
            1,
            1,
            1,
            1,
            1,
            1,
            1,
            1,
            1,
            0,
            1,
            0,
            1,
            0,
            0,
            0,
            0,
            0,
            0,
            0,
            0,
            0,
            0,
            0
           ]
          },
          {
           "label": "learning_rate",
           "range": [
            0.012337530359532306,
            0.09665229678675849
           ],
           "values": [
            0.024812863342950006,
            0.017434467481818917,
            0.07472174566050759,
            0.07171953343349938,
            0.06667199930671133,
            0.08024993219049535,
            0.06955315508627632,
            0.04259428909799505,
            0.09253714232287197,
            0.08212664104773809,
            0.03901890891995057,
            0.04748521098644851,
            0.04795244556738929,
            0.03604429795590922,
            0.055389849692409995,
            0.0598952381259134,
            0.05824707120982421,
            0.03093974164514476,
            0.025250377985745004,
            0.030669473519893572,
            0.012337530359532306,
            0.04363491424576936,
            0.0602976264359364,
            0.04860507724317582,
            0.048336811404534615,
            0.060489889845540795,
            0.05010022082555947,
            0.09665229678675849,
            0.04196726489898347,
            0.05317977982181592,
            0.06382991614712163,
            0.05320808402485114,
            0.03309574991978345,
            0.04352816385179592,
            0.05412753025648558,
            0.023097663755388922,
            0.07445662357375896,
            0.06546867305842805,
            0.07880818927270897,
            0.04492954283971949,
            0.06942671032179339,
            0.04375885109708937,
            0.05161287910434297,
            0.05650093201590544,
            0.057113188796065834,
            0.0634023954661725,
            0.0520773065305872,
            0.0849319671613641,
            0.03843982922553853,
            0.06969423215767878
           ]
          },
          {
           "label": "loss",
           "range": [
            0,
            2
           ],
           "ticktext": [
            "squared_error",
            "absolute_error",
            "huber"
           ],
           "tickvals": [
            0,
            1,
            2
           ],
           "values": [
            0,
            1,
            2,
            0,
            2,
            2,
            1,
            2,
            1,
            2,
            2,
            2,
            2,
            2,
            2,
            0,
            0,
            0,
            0,
            0,
            0,
            0,
            0,
            0,
            0,
            0,
            0,
            0,
            0,
            0,
            1,
            0,
            0,
            0,
            0,
            0,
            1,
            0,
            0,
            0,
            1,
            0,
            0,
            0,
            0,
            0,
            0,
            1,
            0,
            0
           ]
          },
          {
           "label": "max_depth",
           "range": [
            1,
            10
           ],
           "values": [
            8,
            2,
            7,
            9,
            5,
            7,
            9,
            2,
            9,
            9,
            1,
            4,
            4,
            4,
            3,
            2,
            1,
            2,
            2,
            5,
            3,
            2,
            1,
            3,
            3,
            3,
            6,
            1,
            4,
            2,
            2,
            3,
            2,
            1,
            3,
            2,
            5,
            6,
            10,
            2,
            2,
            1,
            2,
            2,
            8,
            1,
            4,
            2,
            3,
            1
           ]
          },
          {
           "label": "n_estimators",
           "range": [
            13,
            200
           ],
           "values": [
            62,
            30,
            165,
            39,
            60,
            175,
            72,
            114,
            94,
            81,
            137,
            118,
            122,
            136,
            114,
            156,
            200,
            163,
            162,
            186,
            145,
            152,
            152,
            183,
            198,
            185,
            179,
            143,
            13,
            131,
            129,
            155,
            103,
            173,
            153,
            129,
            173,
            187,
            164,
            148,
            99,
            141,
            152,
            129,
            89,
            127,
            110,
            135,
            157,
            122
           ]
          }
         ],
         "labelangle": 30,
         "labelside": "bottom",
         "line": {
          "color": [
           1138.5756258751358,
           1494.6137251375758,
           1157.9566294915676,
           1127.839845280608,
           1105.5686858322374,
           1139.9793690212948,
           1128.6683457285067,
           1097.2406677752913,
           1126.3761400962392,
           1168.2941607525725,
           1226.1947416894252,
           1101.0794655287739,
           1100.700642546995,
           1101.757117867813,
           1100.5830875234503,
           1092.4955225928672,
           1148.6748614364772,
           1094.6606603810583,
           1098.0106087819372,
           1098.8996119692079,
           1130.8761656713639,
           1093.148412338178,
           1150.9038021648537,
           1093.5476502140825,
           1094.0423812847146,
           1095.145174721478,
           1119.0161060235303,
           1148.0876205686952,
           1330.0335386650038,
           1093.1552666056568,
           1103.749216081947,
           1094.0743471695098,
           1106.0236558756337,
           1156.7212847478054,
           1093.953314875506,
           1115.5624293747549,
           1106.6724380194205,
           1125.1256721356438,
           1195.515069580662,
           1093.3082653244312,
           1106.5576877918136,
           1165.7943711114062,
           1092.7569580044214,
           1092.8909231659475,
           1127.583012242457,
           1154.1678940943732,
           1095.568111280188,
           1100.7929610454617,
           1093.7237616302764,
           1152.4624546953544
          ],
          "colorbar": {
           "title": {
            "text": "Objective Value"
           }
          },
          "colorscale": [
           [
            0,
            "rgb(247,251,255)"
           ],
           [
            0.125,
            "rgb(222,235,247)"
           ],
           [
            0.25,
            "rgb(198,219,239)"
           ],
           [
            0.375,
            "rgb(158,202,225)"
           ],
           [
            0.5,
            "rgb(107,174,214)"
           ],
           [
            0.625,
            "rgb(66,146,198)"
           ],
           [
            0.75,
            "rgb(33,113,181)"
           ],
           [
            0.875,
            "rgb(8,81,156)"
           ],
           [
            1,
            "rgb(8,48,107)"
           ]
          ],
          "reversescale": true,
          "showscale": true
         },
         "type": "parcoords"
        }
       ],
       "layout": {
        "template": {
         "data": {
          "bar": [
           {
            "error_x": {
             "color": "#2a3f5f"
            },
            "error_y": {
             "color": "#2a3f5f"
            },
            "marker": {
             "line": {
              "color": "#E5ECF6",
              "width": 0.5
             },
             "pattern": {
              "fillmode": "overlay",
              "size": 10,
              "solidity": 0.2
             }
            },
            "type": "bar"
           }
          ],
          "barpolar": [
           {
            "marker": {
             "line": {
              "color": "#E5ECF6",
              "width": 0.5
             },
             "pattern": {
              "fillmode": "overlay",
              "size": 10,
              "solidity": 0.2
             }
            },
            "type": "barpolar"
           }
          ],
          "carpet": [
           {
            "aaxis": {
             "endlinecolor": "#2a3f5f",
             "gridcolor": "white",
             "linecolor": "white",
             "minorgridcolor": "white",
             "startlinecolor": "#2a3f5f"
            },
            "baxis": {
             "endlinecolor": "#2a3f5f",
             "gridcolor": "white",
             "linecolor": "white",
             "minorgridcolor": "white",
             "startlinecolor": "#2a3f5f"
            },
            "type": "carpet"
           }
          ],
          "choropleth": [
           {
            "colorbar": {
             "outlinewidth": 0,
             "ticks": ""
            },
            "type": "choropleth"
           }
          ],
          "contour": [
           {
            "colorbar": {
             "outlinewidth": 0,
             "ticks": ""
            },
            "colorscale": [
             [
              0,
              "#0d0887"
             ],
             [
              0.1111111111111111,
              "#46039f"
             ],
             [
              0.2222222222222222,
              "#7201a8"
             ],
             [
              0.3333333333333333,
              "#9c179e"
             ],
             [
              0.4444444444444444,
              "#bd3786"
             ],
             [
              0.5555555555555556,
              "#d8576b"
             ],
             [
              0.6666666666666666,
              "#ed7953"
             ],
             [
              0.7777777777777778,
              "#fb9f3a"
             ],
             [
              0.8888888888888888,
              "#fdca26"
             ],
             [
              1,
              "#f0f921"
             ]
            ],
            "type": "contour"
           }
          ],
          "contourcarpet": [
           {
            "colorbar": {
             "outlinewidth": 0,
             "ticks": ""
            },
            "type": "contourcarpet"
           }
          ],
          "heatmap": [
           {
            "colorbar": {
             "outlinewidth": 0,
             "ticks": ""
            },
            "colorscale": [
             [
              0,
              "#0d0887"
             ],
             [
              0.1111111111111111,
              "#46039f"
             ],
             [
              0.2222222222222222,
              "#7201a8"
             ],
             [
              0.3333333333333333,
              "#9c179e"
             ],
             [
              0.4444444444444444,
              "#bd3786"
             ],
             [
              0.5555555555555556,
              "#d8576b"
             ],
             [
              0.6666666666666666,
              "#ed7953"
             ],
             [
              0.7777777777777778,
              "#fb9f3a"
             ],
             [
              0.8888888888888888,
              "#fdca26"
             ],
             [
              1,
              "#f0f921"
             ]
            ],
            "type": "heatmap"
           }
          ],
          "heatmapgl": [
           {
            "colorbar": {
             "outlinewidth": 0,
             "ticks": ""
            },
            "colorscale": [
             [
              0,
              "#0d0887"
             ],
             [
              0.1111111111111111,
              "#46039f"
             ],
             [
              0.2222222222222222,
              "#7201a8"
             ],
             [
              0.3333333333333333,
              "#9c179e"
             ],
             [
              0.4444444444444444,
              "#bd3786"
             ],
             [
              0.5555555555555556,
              "#d8576b"
             ],
             [
              0.6666666666666666,
              "#ed7953"
             ],
             [
              0.7777777777777778,
              "#fb9f3a"
             ],
             [
              0.8888888888888888,
              "#fdca26"
             ],
             [
              1,
              "#f0f921"
             ]
            ],
            "type": "heatmapgl"
           }
          ],
          "histogram": [
           {
            "marker": {
             "pattern": {
              "fillmode": "overlay",
              "size": 10,
              "solidity": 0.2
             }
            },
            "type": "histogram"
           }
          ],
          "histogram2d": [
           {
            "colorbar": {
             "outlinewidth": 0,
             "ticks": ""
            },
            "colorscale": [
             [
              0,
              "#0d0887"
             ],
             [
              0.1111111111111111,
              "#46039f"
             ],
             [
              0.2222222222222222,
              "#7201a8"
             ],
             [
              0.3333333333333333,
              "#9c179e"
             ],
             [
              0.4444444444444444,
              "#bd3786"
             ],
             [
              0.5555555555555556,
              "#d8576b"
             ],
             [
              0.6666666666666666,
              "#ed7953"
             ],
             [
              0.7777777777777778,
              "#fb9f3a"
             ],
             [
              0.8888888888888888,
              "#fdca26"
             ],
             [
              1,
              "#f0f921"
             ]
            ],
            "type": "histogram2d"
           }
          ],
          "histogram2dcontour": [
           {
            "colorbar": {
             "outlinewidth": 0,
             "ticks": ""
            },
            "colorscale": [
             [
              0,
              "#0d0887"
             ],
             [
              0.1111111111111111,
              "#46039f"
             ],
             [
              0.2222222222222222,
              "#7201a8"
             ],
             [
              0.3333333333333333,
              "#9c179e"
             ],
             [
              0.4444444444444444,
              "#bd3786"
             ],
             [
              0.5555555555555556,
              "#d8576b"
             ],
             [
              0.6666666666666666,
              "#ed7953"
             ],
             [
              0.7777777777777778,
              "#fb9f3a"
             ],
             [
              0.8888888888888888,
              "#fdca26"
             ],
             [
              1,
              "#f0f921"
             ]
            ],
            "type": "histogram2dcontour"
           }
          ],
          "mesh3d": [
           {
            "colorbar": {
             "outlinewidth": 0,
             "ticks": ""
            },
            "type": "mesh3d"
           }
          ],
          "parcoords": [
           {
            "line": {
             "colorbar": {
              "outlinewidth": 0,
              "ticks": ""
             }
            },
            "type": "parcoords"
           }
          ],
          "pie": [
           {
            "automargin": true,
            "type": "pie"
           }
          ],
          "scatter": [
           {
            "fillpattern": {
             "fillmode": "overlay",
             "size": 10,
             "solidity": 0.2
            },
            "type": "scatter"
           }
          ],
          "scatter3d": [
           {
            "line": {
             "colorbar": {
              "outlinewidth": 0,
              "ticks": ""
             }
            },
            "marker": {
             "colorbar": {
              "outlinewidth": 0,
              "ticks": ""
             }
            },
            "type": "scatter3d"
           }
          ],
          "scattercarpet": [
           {
            "marker": {
             "colorbar": {
              "outlinewidth": 0,
              "ticks": ""
             }
            },
            "type": "scattercarpet"
           }
          ],
          "scattergeo": [
           {
            "marker": {
             "colorbar": {
              "outlinewidth": 0,
              "ticks": ""
             }
            },
            "type": "scattergeo"
           }
          ],
          "scattergl": [
           {
            "marker": {
             "colorbar": {
              "outlinewidth": 0,
              "ticks": ""
             }
            },
            "type": "scattergl"
           }
          ],
          "scattermapbox": [
           {
            "marker": {
             "colorbar": {
              "outlinewidth": 0,
              "ticks": ""
             }
            },
            "type": "scattermapbox"
           }
          ],
          "scatterpolar": [
           {
            "marker": {
             "colorbar": {
              "outlinewidth": 0,
              "ticks": ""
             }
            },
            "type": "scatterpolar"
           }
          ],
          "scatterpolargl": [
           {
            "marker": {
             "colorbar": {
              "outlinewidth": 0,
              "ticks": ""
             }
            },
            "type": "scatterpolargl"
           }
          ],
          "scatterternary": [
           {
            "marker": {
             "colorbar": {
              "outlinewidth": 0,
              "ticks": ""
             }
            },
            "type": "scatterternary"
           }
          ],
          "surface": [
           {
            "colorbar": {
             "outlinewidth": 0,
             "ticks": ""
            },
            "colorscale": [
             [
              0,
              "#0d0887"
             ],
             [
              0.1111111111111111,
              "#46039f"
             ],
             [
              0.2222222222222222,
              "#7201a8"
             ],
             [
              0.3333333333333333,
              "#9c179e"
             ],
             [
              0.4444444444444444,
              "#bd3786"
             ],
             [
              0.5555555555555556,
              "#d8576b"
             ],
             [
              0.6666666666666666,
              "#ed7953"
             ],
             [
              0.7777777777777778,
              "#fb9f3a"
             ],
             [
              0.8888888888888888,
              "#fdca26"
             ],
             [
              1,
              "#f0f921"
             ]
            ],
            "type": "surface"
           }
          ],
          "table": [
           {
            "cells": {
             "fill": {
              "color": "#EBF0F8"
             },
             "line": {
              "color": "white"
             }
            },
            "header": {
             "fill": {
              "color": "#C8D4E3"
             },
             "line": {
              "color": "white"
             }
            },
            "type": "table"
           }
          ]
         },
         "layout": {
          "annotationdefaults": {
           "arrowcolor": "#2a3f5f",
           "arrowhead": 0,
           "arrowwidth": 1
          },
          "autotypenumbers": "strict",
          "coloraxis": {
           "colorbar": {
            "outlinewidth": 0,
            "ticks": ""
           }
          },
          "colorscale": {
           "diverging": [
            [
             0,
             "#8e0152"
            ],
            [
             0.1,
             "#c51b7d"
            ],
            [
             0.2,
             "#de77ae"
            ],
            [
             0.3,
             "#f1b6da"
            ],
            [
             0.4,
             "#fde0ef"
            ],
            [
             0.5,
             "#f7f7f7"
            ],
            [
             0.6,
             "#e6f5d0"
            ],
            [
             0.7,
             "#b8e186"
            ],
            [
             0.8,
             "#7fbc41"
            ],
            [
             0.9,
             "#4d9221"
            ],
            [
             1,
             "#276419"
            ]
           ],
           "sequential": [
            [
             0,
             "#0d0887"
            ],
            [
             0.1111111111111111,
             "#46039f"
            ],
            [
             0.2222222222222222,
             "#7201a8"
            ],
            [
             0.3333333333333333,
             "#9c179e"
            ],
            [
             0.4444444444444444,
             "#bd3786"
            ],
            [
             0.5555555555555556,
             "#d8576b"
            ],
            [
             0.6666666666666666,
             "#ed7953"
            ],
            [
             0.7777777777777778,
             "#fb9f3a"
            ],
            [
             0.8888888888888888,
             "#fdca26"
            ],
            [
             1,
             "#f0f921"
            ]
           ],
           "sequentialminus": [
            [
             0,
             "#0d0887"
            ],
            [
             0.1111111111111111,
             "#46039f"
            ],
            [
             0.2222222222222222,
             "#7201a8"
            ],
            [
             0.3333333333333333,
             "#9c179e"
            ],
            [
             0.4444444444444444,
             "#bd3786"
            ],
            [
             0.5555555555555556,
             "#d8576b"
            ],
            [
             0.6666666666666666,
             "#ed7953"
            ],
            [
             0.7777777777777778,
             "#fb9f3a"
            ],
            [
             0.8888888888888888,
             "#fdca26"
            ],
            [
             1,
             "#f0f921"
            ]
           ]
          },
          "colorway": [
           "#636efa",
           "#EF553B",
           "#00cc96",
           "#ab63fa",
           "#FFA15A",
           "#19d3f3",
           "#FF6692",
           "#B6E880",
           "#FF97FF",
           "#FECB52"
          ],
          "font": {
           "color": "#2a3f5f"
          },
          "geo": {
           "bgcolor": "white",
           "lakecolor": "white",
           "landcolor": "#E5ECF6",
           "showlakes": true,
           "showland": true,
           "subunitcolor": "white"
          },
          "hoverlabel": {
           "align": "left"
          },
          "hovermode": "closest",
          "mapbox": {
           "style": "light"
          },
          "paper_bgcolor": "white",
          "plot_bgcolor": "#E5ECF6",
          "polar": {
           "angularaxis": {
            "gridcolor": "white",
            "linecolor": "white",
            "ticks": ""
           },
           "bgcolor": "#E5ECF6",
           "radialaxis": {
            "gridcolor": "white",
            "linecolor": "white",
            "ticks": ""
           }
          },
          "scene": {
           "xaxis": {
            "backgroundcolor": "#E5ECF6",
            "gridcolor": "white",
            "gridwidth": 2,
            "linecolor": "white",
            "showbackground": true,
            "ticks": "",
            "zerolinecolor": "white"
           },
           "yaxis": {
            "backgroundcolor": "#E5ECF6",
            "gridcolor": "white",
            "gridwidth": 2,
            "linecolor": "white",
            "showbackground": true,
            "ticks": "",
            "zerolinecolor": "white"
           },
           "zaxis": {
            "backgroundcolor": "#E5ECF6",
            "gridcolor": "white",
            "gridwidth": 2,
            "linecolor": "white",
            "showbackground": true,
            "ticks": "",
            "zerolinecolor": "white"
           }
          },
          "shapedefaults": {
           "line": {
            "color": "#2a3f5f"
           }
          },
          "ternary": {
           "aaxis": {
            "gridcolor": "white",
            "linecolor": "white",
            "ticks": ""
           },
           "baxis": {
            "gridcolor": "white",
            "linecolor": "white",
            "ticks": ""
           },
           "bgcolor": "#E5ECF6",
           "caxis": {
            "gridcolor": "white",
            "linecolor": "white",
            "ticks": ""
           }
          },
          "title": {
           "x": 0.05
          },
          "xaxis": {
           "automargin": true,
           "gridcolor": "white",
           "linecolor": "white",
           "ticks": "",
           "title": {
            "standoff": 15
           },
           "zerolinecolor": "white",
           "zerolinewidth": 2
          },
          "yaxis": {
           "automargin": true,
           "gridcolor": "white",
           "linecolor": "white",
           "ticks": "",
           "title": {
            "standoff": 15
           },
           "zerolinecolor": "white",
           "zerolinewidth": 2
          }
         }
        },
        "title": {
         "text": "Parallel Coordinate Plot"
        }
       }
      }
     },
     "metadata": {},
     "output_type": "display_data"
    }
   ],
   "source": [
    "optuna.visualization.plot_parallel_coordinate(study)"
   ]
  },
  {
   "cell_type": "code",
   "execution_count": 14,
   "metadata": {},
   "outputs": [
    {
     "data": {
      "application/vnd.plotly.v1+json": {
       "config": {
        "plotlyServerURL": "https://plot.ly"
       },
       "data": [
        {
         "cliponaxis": false,
         "hovertemplate": [
          "criterion (CategoricalDistribution): 0.0008366448361820008<extra></extra>",
          "loss (CategoricalDistribution): 0.013116952936687971<extra></extra>",
          "learning_rate (UniformDistribution): 0.041148965364520965<extra></extra>",
          "max_depth (IntUniformDistribution): 0.14895428178945025<extra></extra>",
          "n_estimators (IntUniformDistribution): 0.7959431550731588<extra></extra>"
         ],
         "marker": {
          "color": "rgb(66,146,198)"
         },
         "orientation": "h",
         "text": [
          "0.0008366448361820008",
          "0.013116952936687971",
          "0.041148965364520965",
          "0.14895428178945025",
          "0.7959431550731588"
         ],
         "textposition": "outside",
         "texttemplate": "%{text:.2f}",
         "type": "bar",
         "x": [
          0.0008366448361820008,
          0.013116952936687971,
          0.041148965364520965,
          0.14895428178945025,
          0.7959431550731588
         ],
         "y": [
          "criterion",
          "loss",
          "learning_rate",
          "max_depth",
          "n_estimators"
         ]
        }
       ],
       "layout": {
        "showlegend": false,
        "template": {
         "data": {
          "bar": [
           {
            "error_x": {
             "color": "#2a3f5f"
            },
            "error_y": {
             "color": "#2a3f5f"
            },
            "marker": {
             "line": {
              "color": "#E5ECF6",
              "width": 0.5
             },
             "pattern": {
              "fillmode": "overlay",
              "size": 10,
              "solidity": 0.2
             }
            },
            "type": "bar"
           }
          ],
          "barpolar": [
           {
            "marker": {
             "line": {
              "color": "#E5ECF6",
              "width": 0.5
             },
             "pattern": {
              "fillmode": "overlay",
              "size": 10,
              "solidity": 0.2
             }
            },
            "type": "barpolar"
           }
          ],
          "carpet": [
           {
            "aaxis": {
             "endlinecolor": "#2a3f5f",
             "gridcolor": "white",
             "linecolor": "white",
             "minorgridcolor": "white",
             "startlinecolor": "#2a3f5f"
            },
            "baxis": {
             "endlinecolor": "#2a3f5f",
             "gridcolor": "white",
             "linecolor": "white",
             "minorgridcolor": "white",
             "startlinecolor": "#2a3f5f"
            },
            "type": "carpet"
           }
          ],
          "choropleth": [
           {
            "colorbar": {
             "outlinewidth": 0,
             "ticks": ""
            },
            "type": "choropleth"
           }
          ],
          "contour": [
           {
            "colorbar": {
             "outlinewidth": 0,
             "ticks": ""
            },
            "colorscale": [
             [
              0,
              "#0d0887"
             ],
             [
              0.1111111111111111,
              "#46039f"
             ],
             [
              0.2222222222222222,
              "#7201a8"
             ],
             [
              0.3333333333333333,
              "#9c179e"
             ],
             [
              0.4444444444444444,
              "#bd3786"
             ],
             [
              0.5555555555555556,
              "#d8576b"
             ],
             [
              0.6666666666666666,
              "#ed7953"
             ],
             [
              0.7777777777777778,
              "#fb9f3a"
             ],
             [
              0.8888888888888888,
              "#fdca26"
             ],
             [
              1,
              "#f0f921"
             ]
            ],
            "type": "contour"
           }
          ],
          "contourcarpet": [
           {
            "colorbar": {
             "outlinewidth": 0,
             "ticks": ""
            },
            "type": "contourcarpet"
           }
          ],
          "heatmap": [
           {
            "colorbar": {
             "outlinewidth": 0,
             "ticks": ""
            },
            "colorscale": [
             [
              0,
              "#0d0887"
             ],
             [
              0.1111111111111111,
              "#46039f"
             ],
             [
              0.2222222222222222,
              "#7201a8"
             ],
             [
              0.3333333333333333,
              "#9c179e"
             ],
             [
              0.4444444444444444,
              "#bd3786"
             ],
             [
              0.5555555555555556,
              "#d8576b"
             ],
             [
              0.6666666666666666,
              "#ed7953"
             ],
             [
              0.7777777777777778,
              "#fb9f3a"
             ],
             [
              0.8888888888888888,
              "#fdca26"
             ],
             [
              1,
              "#f0f921"
             ]
            ],
            "type": "heatmap"
           }
          ],
          "heatmapgl": [
           {
            "colorbar": {
             "outlinewidth": 0,
             "ticks": ""
            },
            "colorscale": [
             [
              0,
              "#0d0887"
             ],
             [
              0.1111111111111111,
              "#46039f"
             ],
             [
              0.2222222222222222,
              "#7201a8"
             ],
             [
              0.3333333333333333,
              "#9c179e"
             ],
             [
              0.4444444444444444,
              "#bd3786"
             ],
             [
              0.5555555555555556,
              "#d8576b"
             ],
             [
              0.6666666666666666,
              "#ed7953"
             ],
             [
              0.7777777777777778,
              "#fb9f3a"
             ],
             [
              0.8888888888888888,
              "#fdca26"
             ],
             [
              1,
              "#f0f921"
             ]
            ],
            "type": "heatmapgl"
           }
          ],
          "histogram": [
           {
            "marker": {
             "pattern": {
              "fillmode": "overlay",
              "size": 10,
              "solidity": 0.2
             }
            },
            "type": "histogram"
           }
          ],
          "histogram2d": [
           {
            "colorbar": {
             "outlinewidth": 0,
             "ticks": ""
            },
            "colorscale": [
             [
              0,
              "#0d0887"
             ],
             [
              0.1111111111111111,
              "#46039f"
             ],
             [
              0.2222222222222222,
              "#7201a8"
             ],
             [
              0.3333333333333333,
              "#9c179e"
             ],
             [
              0.4444444444444444,
              "#bd3786"
             ],
             [
              0.5555555555555556,
              "#d8576b"
             ],
             [
              0.6666666666666666,
              "#ed7953"
             ],
             [
              0.7777777777777778,
              "#fb9f3a"
             ],
             [
              0.8888888888888888,
              "#fdca26"
             ],
             [
              1,
              "#f0f921"
             ]
            ],
            "type": "histogram2d"
           }
          ],
          "histogram2dcontour": [
           {
            "colorbar": {
             "outlinewidth": 0,
             "ticks": ""
            },
            "colorscale": [
             [
              0,
              "#0d0887"
             ],
             [
              0.1111111111111111,
              "#46039f"
             ],
             [
              0.2222222222222222,
              "#7201a8"
             ],
             [
              0.3333333333333333,
              "#9c179e"
             ],
             [
              0.4444444444444444,
              "#bd3786"
             ],
             [
              0.5555555555555556,
              "#d8576b"
             ],
             [
              0.6666666666666666,
              "#ed7953"
             ],
             [
              0.7777777777777778,
              "#fb9f3a"
             ],
             [
              0.8888888888888888,
              "#fdca26"
             ],
             [
              1,
              "#f0f921"
             ]
            ],
            "type": "histogram2dcontour"
           }
          ],
          "mesh3d": [
           {
            "colorbar": {
             "outlinewidth": 0,
             "ticks": ""
            },
            "type": "mesh3d"
           }
          ],
          "parcoords": [
           {
            "line": {
             "colorbar": {
              "outlinewidth": 0,
              "ticks": ""
             }
            },
            "type": "parcoords"
           }
          ],
          "pie": [
           {
            "automargin": true,
            "type": "pie"
           }
          ],
          "scatter": [
           {
            "fillpattern": {
             "fillmode": "overlay",
             "size": 10,
             "solidity": 0.2
            },
            "type": "scatter"
           }
          ],
          "scatter3d": [
           {
            "line": {
             "colorbar": {
              "outlinewidth": 0,
              "ticks": ""
             }
            },
            "marker": {
             "colorbar": {
              "outlinewidth": 0,
              "ticks": ""
             }
            },
            "type": "scatter3d"
           }
          ],
          "scattercarpet": [
           {
            "marker": {
             "colorbar": {
              "outlinewidth": 0,
              "ticks": ""
             }
            },
            "type": "scattercarpet"
           }
          ],
          "scattergeo": [
           {
            "marker": {
             "colorbar": {
              "outlinewidth": 0,
              "ticks": ""
             }
            },
            "type": "scattergeo"
           }
          ],
          "scattergl": [
           {
            "marker": {
             "colorbar": {
              "outlinewidth": 0,
              "ticks": ""
             }
            },
            "type": "scattergl"
           }
          ],
          "scattermapbox": [
           {
            "marker": {
             "colorbar": {
              "outlinewidth": 0,
              "ticks": ""
             }
            },
            "type": "scattermapbox"
           }
          ],
          "scatterpolar": [
           {
            "marker": {
             "colorbar": {
              "outlinewidth": 0,
              "ticks": ""
             }
            },
            "type": "scatterpolar"
           }
          ],
          "scatterpolargl": [
           {
            "marker": {
             "colorbar": {
              "outlinewidth": 0,
              "ticks": ""
             }
            },
            "type": "scatterpolargl"
           }
          ],
          "scatterternary": [
           {
            "marker": {
             "colorbar": {
              "outlinewidth": 0,
              "ticks": ""
             }
            },
            "type": "scatterternary"
           }
          ],
          "surface": [
           {
            "colorbar": {
             "outlinewidth": 0,
             "ticks": ""
            },
            "colorscale": [
             [
              0,
              "#0d0887"
             ],
             [
              0.1111111111111111,
              "#46039f"
             ],
             [
              0.2222222222222222,
              "#7201a8"
             ],
             [
              0.3333333333333333,
              "#9c179e"
             ],
             [
              0.4444444444444444,
              "#bd3786"
             ],
             [
              0.5555555555555556,
              "#d8576b"
             ],
             [
              0.6666666666666666,
              "#ed7953"
             ],
             [
              0.7777777777777778,
              "#fb9f3a"
             ],
             [
              0.8888888888888888,
              "#fdca26"
             ],
             [
              1,
              "#f0f921"
             ]
            ],
            "type": "surface"
           }
          ],
          "table": [
           {
            "cells": {
             "fill": {
              "color": "#EBF0F8"
             },
             "line": {
              "color": "white"
             }
            },
            "header": {
             "fill": {
              "color": "#C8D4E3"
             },
             "line": {
              "color": "white"
             }
            },
            "type": "table"
           }
          ]
         },
         "layout": {
          "annotationdefaults": {
           "arrowcolor": "#2a3f5f",
           "arrowhead": 0,
           "arrowwidth": 1
          },
          "autotypenumbers": "strict",
          "coloraxis": {
           "colorbar": {
            "outlinewidth": 0,
            "ticks": ""
           }
          },
          "colorscale": {
           "diverging": [
            [
             0,
             "#8e0152"
            ],
            [
             0.1,
             "#c51b7d"
            ],
            [
             0.2,
             "#de77ae"
            ],
            [
             0.3,
             "#f1b6da"
            ],
            [
             0.4,
             "#fde0ef"
            ],
            [
             0.5,
             "#f7f7f7"
            ],
            [
             0.6,
             "#e6f5d0"
            ],
            [
             0.7,
             "#b8e186"
            ],
            [
             0.8,
             "#7fbc41"
            ],
            [
             0.9,
             "#4d9221"
            ],
            [
             1,
             "#276419"
            ]
           ],
           "sequential": [
            [
             0,
             "#0d0887"
            ],
            [
             0.1111111111111111,
             "#46039f"
            ],
            [
             0.2222222222222222,
             "#7201a8"
            ],
            [
             0.3333333333333333,
             "#9c179e"
            ],
            [
             0.4444444444444444,
             "#bd3786"
            ],
            [
             0.5555555555555556,
             "#d8576b"
            ],
            [
             0.6666666666666666,
             "#ed7953"
            ],
            [
             0.7777777777777778,
             "#fb9f3a"
            ],
            [
             0.8888888888888888,
             "#fdca26"
            ],
            [
             1,
             "#f0f921"
            ]
           ],
           "sequentialminus": [
            [
             0,
             "#0d0887"
            ],
            [
             0.1111111111111111,
             "#46039f"
            ],
            [
             0.2222222222222222,
             "#7201a8"
            ],
            [
             0.3333333333333333,
             "#9c179e"
            ],
            [
             0.4444444444444444,
             "#bd3786"
            ],
            [
             0.5555555555555556,
             "#d8576b"
            ],
            [
             0.6666666666666666,
             "#ed7953"
            ],
            [
             0.7777777777777778,
             "#fb9f3a"
            ],
            [
             0.8888888888888888,
             "#fdca26"
            ],
            [
             1,
             "#f0f921"
            ]
           ]
          },
          "colorway": [
           "#636efa",
           "#EF553B",
           "#00cc96",
           "#ab63fa",
           "#FFA15A",
           "#19d3f3",
           "#FF6692",
           "#B6E880",
           "#FF97FF",
           "#FECB52"
          ],
          "font": {
           "color": "#2a3f5f"
          },
          "geo": {
           "bgcolor": "white",
           "lakecolor": "white",
           "landcolor": "#E5ECF6",
           "showlakes": true,
           "showland": true,
           "subunitcolor": "white"
          },
          "hoverlabel": {
           "align": "left"
          },
          "hovermode": "closest",
          "mapbox": {
           "style": "light"
          },
          "paper_bgcolor": "white",
          "plot_bgcolor": "#E5ECF6",
          "polar": {
           "angularaxis": {
            "gridcolor": "white",
            "linecolor": "white",
            "ticks": ""
           },
           "bgcolor": "#E5ECF6",
           "radialaxis": {
            "gridcolor": "white",
            "linecolor": "white",
            "ticks": ""
           }
          },
          "scene": {
           "xaxis": {
            "backgroundcolor": "#E5ECF6",
            "gridcolor": "white",
            "gridwidth": 2,
            "linecolor": "white",
            "showbackground": true,
            "ticks": "",
            "zerolinecolor": "white"
           },
           "yaxis": {
            "backgroundcolor": "#E5ECF6",
            "gridcolor": "white",
            "gridwidth": 2,
            "linecolor": "white",
            "showbackground": true,
            "ticks": "",
            "zerolinecolor": "white"
           },
           "zaxis": {
            "backgroundcolor": "#E5ECF6",
            "gridcolor": "white",
            "gridwidth": 2,
            "linecolor": "white",
            "showbackground": true,
            "ticks": "",
            "zerolinecolor": "white"
           }
          },
          "shapedefaults": {
           "line": {
            "color": "#2a3f5f"
           }
          },
          "ternary": {
           "aaxis": {
            "gridcolor": "white",
            "linecolor": "white",
            "ticks": ""
           },
           "baxis": {
            "gridcolor": "white",
            "linecolor": "white",
            "ticks": ""
           },
           "bgcolor": "#E5ECF6",
           "caxis": {
            "gridcolor": "white",
            "linecolor": "white",
            "ticks": ""
           }
          },
          "title": {
           "x": 0.05
          },
          "xaxis": {
           "automargin": true,
           "gridcolor": "white",
           "linecolor": "white",
           "ticks": "",
           "title": {
            "standoff": 15
           },
           "zerolinecolor": "white",
           "zerolinewidth": 2
          },
          "yaxis": {
           "automargin": true,
           "gridcolor": "white",
           "linecolor": "white",
           "ticks": "",
           "title": {
            "standoff": 15
           },
           "zerolinecolor": "white",
           "zerolinewidth": 2
          }
         }
        },
        "title": {
         "text": "Hyperparameter Importances"
        },
        "xaxis": {
         "title": {
          "text": "Importance for Objective Value"
         }
        },
        "yaxis": {
         "title": {
          "text": "Hyperparameter"
         }
        }
       }
      }
     },
     "metadata": {},
     "output_type": "display_data"
    }
   ],
   "source": [
    "optuna.visualization.plot_param_importances(study)"
   ]
  },
  {
   "cell_type": "code",
   "execution_count": 29,
   "metadata": {},
   "outputs": [
    {
     "name": "stdout",
     "output_type": "stream",
     "text": [
      "Métricas del Modelo: *Gradient Boosting Regressor_Optimizado*\n",
      "ENTRENAMIENTO: RMSE: 1113.64 - R2: 0.5723\n",
      "VALIDACIÓN: RMSE: 1092.5 - R2: 0.5939 \n",
      "\n"
     ]
    }
   ],
   "source": [
    "# Modelo final\n",
    "GBR_model_opt = GradientBoostingRegressor(**study.best_params)\n",
    "GBR_model_opt.fit(x_train, y_train)\n",
    "\n",
    "# Predicción del modelo ajustado para el conjunto de validación\n",
    "pred = GBR_model_opt.predict(x_val)\n",
    "\n",
    "# Evaluo el modelo\n",
    "evaluation_score('Gradient Boosting Regressor_Optimizado',GBR_model_opt)"
   ]
  },
  {
   "cell_type": "code",
   "execution_count": 30,
   "metadata": {},
   "outputs": [
    {
     "data": {
      "text/html": [
       "<div>\n",
       "<style scoped>\n",
       "    .dataframe tbody tr th:only-of-type {\n",
       "        vertical-align: middle;\n",
       "    }\n",
       "\n",
       "    .dataframe tbody tr th {\n",
       "        vertical-align: top;\n",
       "    }\n",
       "\n",
       "    .dataframe thead th {\n",
       "        text-align: right;\n",
       "    }\n",
       "</style>\n",
       "<table border=\"1\" class=\"dataframe\">\n",
       "  <thead>\n",
       "    <tr style=\"text-align: right;\">\n",
       "      <th></th>\n",
       "      <th>mse_train</th>\n",
       "      <th>R2_train</th>\n",
       "      <th>mse_val</th>\n",
       "      <th>R2_val</th>\n",
       "    </tr>\n",
       "  </thead>\n",
       "  <tbody>\n",
       "    <tr>\n",
       "      <th>LinearRegression</th>\n",
       "      <td>1169.35</td>\n",
       "      <td>0.5284</td>\n",
       "      <td>1146.66</td>\n",
       "      <td>0.5526</td>\n",
       "    </tr>\n",
       "    <tr>\n",
       "      <th>LinearModel_Optimizado</th>\n",
       "      <td>1169.60</td>\n",
       "      <td>0.5282</td>\n",
       "      <td>1146.60</td>\n",
       "      <td>0.5526</td>\n",
       "    </tr>\n",
       "    <tr>\n",
       "      <th>ElasticNet</th>\n",
       "      <td>1362.23</td>\n",
       "      <td>0.3600</td>\n",
       "      <td>1343.04</td>\n",
       "      <td>0.3862</td>\n",
       "    </tr>\n",
       "    <tr>\n",
       "      <th>RandomForestRegressor</th>\n",
       "      <td>461.34</td>\n",
       "      <td>0.9266</td>\n",
       "      <td>1158.95</td>\n",
       "      <td>0.5430</td>\n",
       "    </tr>\n",
       "    <tr>\n",
       "      <th>GradientBoostingRegressor</th>\n",
       "      <td>1085.17</td>\n",
       "      <td>0.5939</td>\n",
       "      <td>1096.04</td>\n",
       "      <td>0.5912</td>\n",
       "    </tr>\n",
       "    <tr>\n",
       "      <th>Gradient Boosting Regressor_Optimizado</th>\n",
       "      <td>1113.64</td>\n",
       "      <td>0.5723</td>\n",
       "      <td>1092.50</td>\n",
       "      <td>0.5939</td>\n",
       "    </tr>\n",
       "  </tbody>\n",
       "</table>\n",
       "</div>"
      ],
      "text/plain": [
       "                                        mse_train  R2_train  mse_val  R2_val\n",
       "LinearRegression                          1169.35    0.5284  1146.66  0.5526\n",
       "LinearModel_Optimizado                    1169.60    0.5282  1146.60  0.5526\n",
       "ElasticNet                                1362.23    0.3600  1343.04  0.3862\n",
       "RandomForestRegressor                      461.34    0.9266  1158.95  0.5430\n",
       "GradientBoostingRegressor                 1085.17    0.5939  1096.04  0.5912\n",
       "Gradient Boosting Regressor_Optimizado    1113.64    0.5723  1092.50  0.5939"
      ]
     },
     "execution_count": 30,
     "metadata": {},
     "output_type": "execute_result"
    }
   ],
   "source": [
    "metrics_models"
   ]
  },
  {
   "cell_type": "markdown",
   "metadata": {},
   "source": [
    "Comparo las métricas entre el modelo original y el modelo Gradient Boosting Regressor optimizado con Optuna"
   ]
  },
  {
   "cell_type": "code",
   "execution_count": 31,
   "metadata": {},
   "outputs": [
    {
     "name": "stdout",
     "output_type": "stream",
     "text": [
      "La mejora de mse_train fue de: 4.96% \n",
      "\n",
      "La mejora de R2_train fue de: 8.31% \n",
      "\n",
      "La mejora de mse_val fue de: 4.96% \n",
      "\n",
      "La mejora de R2_val fue de: 7.47% \n",
      "\n"
     ]
    }
   ],
   "source": [
    "improve_mse_train = metrics_models['mse_train']['LinearRegression']/metrics_models['mse_train']['Gradient Boosting Regressor_Optimizado']\n",
    "improve_R2_train = metrics_models['R2_train']['Gradient Boosting Regressor_Optimizado']/metrics_models['R2_train']['LinearRegression']\n",
    "improve_mse_val = metrics_models['mse_val']['LinearRegression']/metrics_models['mse_val']['Gradient Boosting Regressor_Optimizado']\n",
    "improve_R2_val = metrics_models['R2_val']['Gradient Boosting Regressor_Optimizado']/metrics_models['R2_val']['LinearRegression']\n",
    "\n",
    "print(f'La mejora de mse_train fue de: {improve_mse_val-1:.2%}', '\\n')\n",
    "print(f'La mejora de R2_train fue de: {improve_R2_train-1:.2%}', '\\n')\n",
    "print(f'La mejora de mse_val fue de: {improve_mse_val-1:.2%}', '\\n')\n",
    "print(f'La mejora de R2_val fue de: {improve_R2_val-1:.2%}', '\\n')"
   ]
  },
  {
   "cell_type": "markdown",
   "metadata": {},
   "source": [
    "Comparo las métricas entre el modelo Gradient Boosting Regressor y el modelo optimizado con Optuna"
   ]
  },
  {
   "cell_type": "code",
   "execution_count": 32,
   "metadata": {},
   "outputs": [
    {
     "name": "stdout",
     "output_type": "stream",
     "text": [
      "La mejora de mse_train fue de: 0.32% \n",
      "\n",
      "La mejora de R2_train fue de: -3.64% \n",
      "\n",
      "La mejora de mse_val fue de: 0.32% \n",
      "\n",
      "La mejora de R2_val fue de: 0.46% \n",
      "\n"
     ]
    }
   ],
   "source": [
    "improve_mse_train = metrics_models['mse_train']['GradientBoostingRegressor']/metrics_models['mse_train']['Gradient Boosting Regressor_Optimizado']\n",
    "improve_R2_train = metrics_models['R2_train']['Gradient Boosting Regressor_Optimizado']/metrics_models['R2_train']['GradientBoostingRegressor']\n",
    "improve_mse_val = metrics_models['mse_val']['GradientBoostingRegressor']/metrics_models['mse_val']['Gradient Boosting Regressor_Optimizado']\n",
    "improve_R2_val = metrics_models['R2_val']['Gradient Boosting Regressor_Optimizado']/metrics_models['R2_val']['GradientBoostingRegressor']\n",
    "\n",
    "print(f'La mejora de mse_train fue de: {improve_mse_val-1:.2%}', '\\n')\n",
    "print(f'La mejora de R2_train fue de: {improve_R2_train-1:.2%}', '\\n')\n",
    "print(f'La mejora de mse_val fue de: {improve_mse_val-1:.2%}', '\\n')\n",
    "print(f'La mejora de R2_val fue de: {improve_R2_val-1:.2%}', '\\n')"
   ]
  },
  {
   "cell_type": "markdown",
   "metadata": {},
   "source": [
    "### Aplico el nuevo modelo en el dataset de test"
   ]
  },
  {
   "cell_type": "code",
   "execution_count": 18,
   "metadata": {},
   "outputs": [
    {
     "data": {
      "text/html": [
       "<div>\n",
       "<style scoped>\n",
       "    .dataframe tbody tr th:only-of-type {\n",
       "        vertical-align: middle;\n",
       "    }\n",
       "\n",
       "    .dataframe tbody tr th {\n",
       "        vertical-align: top;\n",
       "    }\n",
       "\n",
       "    .dataframe thead th {\n",
       "        text-align: right;\n",
       "    }\n",
       "</style>\n",
       "<table border=\"1\" class=\"dataframe\">\n",
       "  <thead>\n",
       "    <tr style=\"text-align: right;\">\n",
       "      <th></th>\n",
       "      <th>Item_Weight</th>\n",
       "      <th>Item_Visibility</th>\n",
       "      <th>Item_MRP</th>\n",
       "      <th>Outlet_Establishment_Year</th>\n",
       "      <th>Outlet_Size</th>\n",
       "      <th>Outlet_Location_Type</th>\n",
       "      <th>Outlet_Type_Grocery Store</th>\n",
       "      <th>Outlet_Type_Supermarket Type1</th>\n",
       "      <th>Outlet_Type_Supermarket Type2</th>\n",
       "      <th>Outlet_Type_Supermarket Type3</th>\n",
       "      <th>pred_Sales</th>\n",
       "    </tr>\n",
       "  </thead>\n",
       "  <tbody>\n",
       "    <tr>\n",
       "      <th>8523</th>\n",
       "      <td>20.750</td>\n",
       "      <td>0.007565</td>\n",
       "      <td>2</td>\n",
       "      <td>21</td>\n",
       "      <td>1</td>\n",
       "      <td>2</td>\n",
       "      <td>0</td>\n",
       "      <td>1</td>\n",
       "      <td>0</td>\n",
       "      <td>0</td>\n",
       "      <td>1766.880186</td>\n",
       "    </tr>\n",
       "    <tr>\n",
       "      <th>8524</th>\n",
       "      <td>8.300</td>\n",
       "      <td>0.038428</td>\n",
       "      <td>1</td>\n",
       "      <td>13</td>\n",
       "      <td>0</td>\n",
       "      <td>1</td>\n",
       "      <td>0</td>\n",
       "      <td>1</td>\n",
       "      <td>0</td>\n",
       "      <td>0</td>\n",
       "      <td>1063.145810</td>\n",
       "    </tr>\n",
       "    <tr>\n",
       "      <th>8525</th>\n",
       "      <td>14.600</td>\n",
       "      <td>0.099575</td>\n",
       "      <td>4</td>\n",
       "      <td>22</td>\n",
       "      <td>0</td>\n",
       "      <td>0</td>\n",
       "      <td>1</td>\n",
       "      <td>0</td>\n",
       "      <td>0</td>\n",
       "      <td>0</td>\n",
       "      <td>602.832561</td>\n",
       "    </tr>\n",
       "    <tr>\n",
       "      <th>8526</th>\n",
       "      <td>7.315</td>\n",
       "      <td>0.015388</td>\n",
       "      <td>3</td>\n",
       "      <td>13</td>\n",
       "      <td>0</td>\n",
       "      <td>1</td>\n",
       "      <td>0</td>\n",
       "      <td>1</td>\n",
       "      <td>0</td>\n",
       "      <td>0</td>\n",
       "      <td>2786.860398</td>\n",
       "    </tr>\n",
       "    <tr>\n",
       "      <th>8527</th>\n",
       "      <td>13.600</td>\n",
       "      <td>0.118599</td>\n",
       "      <td>4</td>\n",
       "      <td>35</td>\n",
       "      <td>1</td>\n",
       "      <td>0</td>\n",
       "      <td>0</td>\n",
       "      <td>0</td>\n",
       "      <td>0</td>\n",
       "      <td>1</td>\n",
       "      <td>5616.812635</td>\n",
       "    </tr>\n",
       "  </tbody>\n",
       "</table>\n",
       "</div>"
      ],
      "text/plain": [
       "      Item_Weight  Item_Visibility  Item_MRP  Outlet_Establishment_Year   \n",
       "8523       20.750         0.007565         2                         21  \\\n",
       "8524        8.300         0.038428         1                         13   \n",
       "8525       14.600         0.099575         4                         22   \n",
       "8526        7.315         0.015388         3                         13   \n",
       "8527       13.600         0.118599         4                         35   \n",
       "\n",
       "      Outlet_Size  Outlet_Location_Type  Outlet_Type_Grocery Store   \n",
       "8523            1                     2                          0  \\\n",
       "8524            0                     1                          0   \n",
       "8525            0                     0                          1   \n",
       "8526            0                     1                          0   \n",
       "8527            1                     0                          0   \n",
       "\n",
       "      Outlet_Type_Supermarket Type1  Outlet_Type_Supermarket Type2   \n",
       "8523                              1                              0  \\\n",
       "8524                              1                              0   \n",
       "8525                              0                              0   \n",
       "8526                              1                              0   \n",
       "8527                              0                              0   \n",
       "\n",
       "      Outlet_Type_Supermarket Type3   pred_Sales  \n",
       "8523                              0  1766.880186  \n",
       "8524                              0  1063.145810  \n",
       "8525                              0   602.832561  \n",
       "8526                              0  2786.860398  \n",
       "8527                              1  5616.812635  "
      ]
     },
     "execution_count": 18,
     "metadata": {},
     "output_type": "execute_result"
    }
   ],
   "source": [
    "# Predicción del modelo ajustado\n",
    "data_test = df_test.copy()\n",
    "data_test['pred_Sales'] = GBR_model_opt.predict(data_test)\n",
    "data_test.to_csv('data_test')\n",
    "data_test.head()"
   ]
  },
  {
   "cell_type": "markdown",
   "metadata": {},
   "source": [
    "## Conclusión:\n",
    "\n",
    "Se puede ver que con el método de 'Gradient Boosting Regressor_Optimizado' tiene una mejora en las métricas de un 5% aproximadamente con respecto al modelo original y la mejora obtenida con Optuna fue del 0.5% aproximadamente."
   ]
  }
 ],
 "metadata": {
  "kernelspec": {
   "display_name": "env_ApMq2",
   "language": "python",
   "name": "python3"
  },
  "language_info": {
   "codemirror_mode": {
    "name": "ipython",
    "version": 3
   },
   "file_extension": ".py",
   "mimetype": "text/x-python",
   "name": "python",
   "nbconvert_exporter": "python",
   "pygments_lexer": "ipython3",
   "version": "3.8.17"
  },
  "orig_nbformat": 4
 },
 "nbformat": 4,
 "nbformat_minor": 2
}
